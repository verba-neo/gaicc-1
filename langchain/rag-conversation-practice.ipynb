{
 "cells": [
  {
   "cell_type": "markdown",
   "metadata": {},
   "source": [
    "# rag-conversation-practice\n",
    "\n",
    "## PDF RAG\n",
    "1. RAG 진행할 PDF 선택  (WebBaseLoader => `02-rag.ipynb` 참조.)\n",
    "2. Pinecone New Index 만들기 (Pinecone.io 사이트에서 생성)\n",
    "    잘못된 경우 지우고 다시 만들고 진행(도움 요청)\n",
    "3. PDF Load\n",
    "4. Split\n",
    "    -  `ChunkSize` 조절\n",
    "5. VectorStoring\n",
    "    - 2번에서 만든 새로운 Pinecone Index 로 이름 바꾸기.\n",
    "    - 최초 1회만 저장 코드를 실행하고, 뒤에는 더이상 데이터 추가하지 않기\n",
    "5. 프롬프트 만들기 \n",
    "    - `프롬프트 지시 메세지 바꾸기`\n",
    "6. LLM 선택\n",
    "    2. `GPT 모델`, `temperature`\n",
    "\n",
    "7. 5마디 이상 대화 해보기\n",
    "8. 하이퍼 파라미터들 바꾸며 테스트 하기\n",
    "    \n"
   ]
  }
 ],
 "metadata": {
  "language_info": {
   "name": "python"
  }
 },
 "nbformat": 4,
 "nbformat_minor": 2
}
