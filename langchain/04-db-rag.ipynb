{
 "cells": [
  {
   "cell_type": "markdown",
   "metadata": {},
   "source": [
    "`04-db-rag.ipynb`"
   ]
  },
  {
   "cell_type": "code",
   "execution_count": null,
   "metadata": {},
   "outputs": [],
   "source": [
    "%pip install -q langchain langchain-community sqlalchemy langchain_openai"
   ]
  },
  {
   "cell_type": "code",
   "execution_count": 3,
   "metadata": {},
   "outputs": [
    {
     "data": {
      "text/plain": [
       "True"
      ]
     },
     "execution_count": 3,
     "metadata": {},
     "output_type": "execute_result"
    }
   ],
   "source": [
    "from dotenv import load_dotenv\n",
    "load_dotenv()"
   ]
  },
  {
   "cell_type": "code",
   "execution_count": 4,
   "metadata": {},
   "outputs": [
    {
     "name": "stdout",
     "output_type": "stream",
     "text": [
      "['lottery_results']\n"
     ]
    },
    {
     "data": {
      "text/plain": [
       "\"[(1, '2002-12-07', 3681782000, 0, 863604600, 0, 10, 23, 29, 33, 37, 40, 16), (2, '2002-12-14', 4904274000, 2002006800, 0, 1, 9, 13, 21, 25, 32, 42, 2), (3, '2002-12-21', 4729342000, 2000000000, 0, 1, 11, 16, 19, 21, 27, 31, 30), (4, '2002-12-28', 5271464000, 0, 1267147200, 0, 14, 27, 30, 31, 40, 42, 2), (5, '2003-01-04', 6277102000, 0, 3041094900, 0, 16, 24, 29, 40, 41, 42, 3)]\""
      ]
     },
     "execution_count": 4,
     "metadata": {},
     "output_type": "execute_result"
    }
   ],
   "source": [
    "from langchain_community.utilities import SQLDatabase\n",
    "# 현재 사용중인 DB는 sqlite\n",
    "db = SQLDatabase.from_uri('sqlite:///lottery_results.db')\n",
    "print(db.get_usable_table_names())\n",
    "db.run('SELECT * FROM lottery_results LIMIT 5')"
   ]
  },
  {
   "cell_type": "code",
   "execution_count": 32,
   "metadata": {},
   "outputs": [],
   "source": [
    "from langchain_openai import ChatOpenAI\n",
    "from langchain.chains import create_sql_query_chain\n",
    "\n",
    "llm = ChatOpenAI(model='gpt-3.5-turbo')"
   ]
  },
  {
   "cell_type": "code",
   "execution_count": 6,
   "metadata": {},
   "outputs": [],
   "source": [
    "# 자연어를 기반으로 SQL을 만들어주는 체인\n",
    "chain = create_sql_query_chain(llm, db)"
   ]
  },
  {
   "cell_type": "code",
   "execution_count": 7,
   "metadata": {},
   "outputs": [],
   "source": [
    "res = chain.invoke({'question': 'lotto_results 테이블에 데이터가 몇개 있어?'})"
   ]
  },
  {
   "cell_type": "code",
   "execution_count": 8,
   "metadata": {},
   "outputs": [
    {
     "name": "stdout",
     "output_type": "stream",
     "text": [
      "SELECT COUNT(\"drwNo\") AS total_rows FROM lottery_results;\n"
     ]
    },
    {
     "data": {
      "text/plain": [
       "'[(1128,)]'"
      ]
     },
     "execution_count": 8,
     "metadata": {},
     "output_type": "execute_result"
    }
   ],
   "source": [
    "print(res)\n",
    "db.run(res)"
   ]
  },
  {
   "cell_type": "code",
   "execution_count": 9,
   "metadata": {},
   "outputs": [
    {
     "name": "stdout",
     "output_type": "stream",
     "text": [
      "You are a SQLite expert. Given an input question, first create a syntactically correct SQLite query to run, then look at the results of the query and return the answer to the input question.\n",
      "Unless the user specifies in the question a specific number of examples to obtain, query for at most 5 results using the LIMIT clause as per SQLite. You can order the results to return the most informative data in the database.\n",
      "Never query for all columns from a table. You must query only the columns that are needed to answer the question. Wrap each column name in double quotes (\") to denote them as delimited identifiers.\n",
      "Pay attention to use only the column names you can see in the tables below. Be careful to not query for columns that do not exist. Also, pay attention to which column is in which table.\n",
      "Pay attention to use date('now') function to get the current date, if the question involves \"today\".\n",
      "\n",
      "Use the following format:\n",
      "\n",
      "Question: Question here\n",
      "SQLQuery: SQL Query to run\n",
      "SQLResult: Result of the SQLQuery\n",
      "Answer: Final answer here\n",
      "\n",
      "Only use the following tables:\n",
      "\u001b[33;1m\u001b[1;3m{table_info}\u001b[0m\n",
      "\n",
      "Question: \u001b[33;1m\u001b[1;3m{input}\u001b[0m\n"
     ]
    }
   ],
   "source": [
    "chain.get_prompts()[0].pretty_print()"
   ]
  },
  {
   "cell_type": "code",
   "execution_count": 26,
   "metadata": {},
   "outputs": [
    {
     "data": {
      "text/plain": [
       "'[(1128,)]'"
      ]
     },
     "execution_count": 26,
     "metadata": {},
     "output_type": "execute_result"
    }
   ],
   "source": [
    "llm = ChatOpenAI(model='gpt-3.5-turbo')\n",
    "\n",
    "from langchain_community.tools.sql_database.tool import QuerySQLDataBaseTool\n",
    "\n",
    "# 자연어 => SQL 생성\n",
    "make_query = create_sql_query_chain(llm, db)\n",
    "# 생성된 SQL을 실행\n",
    "execute_query = QuerySQLDataBaseTool(db=db)\n",
    "\n",
    "chain = make_query | execute_query\n",
    "\n",
    "chain.invoke({'question': 'lotto_results 테이블에 데이터가 몇개 있어?'})"
   ]
  },
  {
   "cell_type": "code",
   "execution_count": 34,
   "metadata": {},
   "outputs": [],
   "source": [
    "from operator import itemgetter\n",
    "from langchain_core.prompts import PromptTemplate\n",
    "from langchain_core.output_parsers import StrOutputParser\n",
    "from langchain_core.runnables import RunnablePassthrough\n",
    "\n",
    "\n",
    "answer_prompt = PromptTemplate.from_template(\n",
    "        \"\"\"You are an agent designed to interact with a SQL database.\n",
    "Given an input question, create a syntactically correct SQLite query to run, then look at the results of the query and return the answer.\n",
    "Unless the user specifies a specific number of examples they wish to obtain, always limit your query to at most 5 results.\n",
    "You can order the results by a relevant column to return the most interesting examples in the database.\n",
    "Never query for all the columns from a specific table, only ask for the relevant columns given the question.\n",
    "You have access to tools for interacting with the database.\n",
    "Only use the below tools. Only use the information returned by the below tools to construct your final answer.\n",
    "You MUST double check your query before executing it. If you get an error while executing a query, rewrite the query and try again.\n",
    "\n",
    "DO NOT make any DML statements (INSERT, UPDATE, DELETE, DROP etc.) to the database.\n",
    "\n",
    "To start you should ALWAYS look at the tables in the database to see what you can query.\n",
    "Do NOT skip this step.\n",
    "Then you should query the schema of the most relevant tables. \n",
    "\n",
    "There is only one table named lottery_results in DB.\n",
    "These are column explanation.\n",
    "\n",
    "drwNo: Lottery Draw Round Number\n",
    "drwNoDate: Date of Lottery Draw Round\n",
    "totSellamnt: Total Sales Amount\n",
    "firstAccumamnt: Sum of 1st Winning Amount\n",
    "firstPrzwnerCo: Sum of 1st Winners.\n",
    "firstWinamnt: Winning amount for each 1st place winner\n",
    "drwtNo1: Drawn Number\n",
    "drwtNo2: Drawn Number\n",
    "drwtNo3: Drawn Number\n",
    "drwtNo4: Drawn Number\n",
    "drwtNo5: Drawn Number\n",
    "drwtNo6: Drawn Number\n",
    "bnusNo: Bonus Number\n",
    "\n",
    "Question: {question}\n",
    "SQL Query: {query}\n",
    "SQL Result: {result}\n",
    "Answer: \"\"\"\n",
    ")\n",
    "\n",
    "# 자연어질문 => SQL => 실행한 결과를 => LLM이 문장으로 조합해서 응답\n",
    "chain = (\n",
    "    # 자연어 => SQL => 실행결과\n",
    "    RunnablePassthrough.assign(query=make_query).assign(\n",
    "        result=itemgetter('query') | execute_query\n",
    "    )\n",
    "    | answer_prompt\n",
    "    | llm\n",
    "    | StrOutputParser()\n",
    ")"
   ]
  },
  {
   "cell_type": "code",
   "execution_count": 35,
   "metadata": {},
   "outputs": [],
   "source": [
    "res = chain.invoke({'question': '1등한 사람이 가장 많은 돈을 받아간 회차와 액수를 말해줘'})"
   ]
  },
  {
   "cell_type": "code",
   "execution_count": 36,
   "metadata": {},
   "outputs": [
    {
     "data": {
      "text/plain": [
       "'1등한 사람이 가장 많은 돈을 받아간 회차는 19회차이며 액수는 40,722,959,400원 입니다.'"
      ]
     },
     "execution_count": 36,
     "metadata": {},
     "output_type": "execute_result"
    }
   ],
   "source": [
    "res"
   ]
  }
 ],
 "metadata": {
  "kernelspec": {
   "display_name": "Python 3",
   "language": "python",
   "name": "python3"
  },
  "language_info": {
   "codemirror_mode": {
    "name": "ipython",
    "version": 3
   },
   "file_extension": ".py",
   "mimetype": "text/x-python",
   "name": "python",
   "nbconvert_exporter": "python",
   "pygments_lexer": "ipython3",
   "version": "3.12.4"
  }
 },
 "nbformat": 4,
 "nbformat_minor": 2
}
