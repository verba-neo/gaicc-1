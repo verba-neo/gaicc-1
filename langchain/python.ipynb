{
 "cells": [
  {
   "cell_type": "code",
   "execution_count": 5,
   "metadata": {},
   "outputs": [
    {
     "name": "stdout",
     "output_type": "stream",
     "text": [
      "안녕\\ n하세요\n"
     ]
    },
    {
     "name": "stderr",
     "output_type": "stream",
     "text": [
      "<>:1: SyntaxWarning: invalid escape sequence '\\ '\n",
      "<>:1: SyntaxWarning: invalid escape sequence '\\ '\n",
      "C:\\Users\\1-00\\AppData\\Local\\Temp\\ipykernel_5608\\2911053747.py:1: SyntaxWarning: invalid escape sequence '\\ '\n",
      "  s = '안녕\\ n하세요'\n"
     ]
    }
   ],
   "source": [
    "def solution(menu, n):\n",
    "    tomato_pasta = [4, 4, 1, 125]\n",
    "    shrimp_oil_pasta = [6, 3, 0, 170]\n",
    "    mushroom_cream_pasta = [5, 4, 1, 140]\n",
    "    answer = [0, 0, 0, 0]\n",
    "    if menu == \"tomato pasta\":\n",
    "        for i in range(4):\n",
    "            answer[i] = tomato_pasta[i] * n\n",
    "    elif menu == \"shrimp oil pasta\":\n",
    "        for i in range(4):\n",
    "            answer[i] = shrimp_oil_pasta[i] * n\n",
    "\n",
    "    elif menu == \"mushroom cream pasta\":\n",
    "        for i in range(4):\n",
    "            answer[i] = mushroom_cream_pasta[i] * n\n",
    "\n",
    "    return answer\n"
   ]
  }
 ],
 "metadata": {
  "kernelspec": {
   "display_name": "Python 3",
   "language": "python",
   "name": "python3"
  },
  "language_info": {
   "codemirror_mode": {
    "name": "ipython",
    "version": 3
   },
   "file_extension": ".py",
   "mimetype": "text/x-python",
   "name": "python",
   "nbconvert_exporter": "python",
   "pygments_lexer": "ipython3",
   "version": "3.12.4"
  }
 },
 "nbformat": 4,
 "nbformat_minor": 2
}
