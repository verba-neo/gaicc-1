{
 "cells": [
  {
   "cell_type": "markdown",
   "metadata": {},
   "source": [
    "`05-rag-conversation.ipynb`"
   ]
  },
  {
   "cell_type": "code",
   "execution_count": null,
   "metadata": {},
   "outputs": [],
   "source": [
    "%pip install -q langchain_pinecone"
   ]
  },
  {
   "cell_type": "code",
   "execution_count": 11,
   "metadata": {},
   "outputs": [
    {
     "data": {
      "text/plain": [
       "True"
      ]
     },
     "execution_count": 11,
     "metadata": {},
     "output_type": "execute_result"
    }
   ],
   "source": [
    "from dotenv import load_dotenv\n",
    "from langchain_community.document_loaders import PyMuPDFLoader\n",
    "from langchain_text_splitters import RecursiveCharacterTextSplitter\n",
    "from langchain_openai import OpenAIEmbeddings, ChatOpenAI\n",
    "from langchain_pinecone import PineconeVectorStore\n",
    "from langchain_core.prompts import PromptTemplate\n",
    "from langchain_core.runnables import RunnablePassthrough\n",
    "from langchain_core.output_parsers import StrOutputParser\n",
    "from pinecone_utils import create_embeddings, get_vectorstore\n",
    "\n",
    "load_dotenv()"
   ]
  },
  {
   "cell_type": "code",
   "execution_count": 7,
   "metadata": {},
   "outputs": [],
   "source": [
    "loader = PyMuPDFLoader('./data.pdf')\n",
    "docs = loader.load()\n",
    "\n",
    "text_splitter = RecursiveCharacterTextSplitter(chunk_size=500, chunk_overlap=100)\n",
    "split_docs = text_splitter.split_documents(docs)\n",
    "\n",
    "index_name = 'gaicc-1'\n",
    "# 최초 1회만 pdf 를 Pinecone Vectorstore에 저장.\n",
    "# create_embeddings(index_name=index_name, docs=split_docs)\n"
   ]
  },
  {
   "cell_type": "code",
   "execution_count": 12,
   "metadata": {},
   "outputs": [],
   "source": [
    "vectorstore = get_vectorstore(index_name)\n",
    "retriever = vectorstore.as_retriever()\n",
    "text = '''\n",
    "넌 질문-답변을 도와주는 AI 비서야.\n",
    "아래 제공되는 Context를 통해서 사용자 Question에 대해 답을 해줘야해.\n",
    "\n",
    "Context에는 직접적으로 없어도, 추론하거나 계산할 수 있는 답변은 최대한 만들어 봐.\n",
    "그리고 관련 내용을 말할때는, pdf 몇 페이지이서 찾은 내용인지도 말해줘.\n",
    "\n",
    "답은 적절히 \\n를 통해 문단을 나눠줘 한국어로 만들어 줘. \n",
    "# Question:\n",
    "{question}\n",
    "\n",
    "# Context:\n",
    "{context}\n",
    "\n",
    "\n",
    "# Answer:\n",
    "'''\n",
    "prompt = PromptTemplate.from_template(text)\n",
    "llm = ChatOpenAI(model='gpt-3.5-turbo', temperature=0.5)\n",
    "parser = StrOutputParser()\n",
    "\n",
    "chain = (\n",
    "    {'context': retriever, 'question': RunnablePassthrough()}\n",
    "    | prompt\n",
    "    | llm\n",
    "    | parser\n",
    ")\n",
    "\n",
    "ans = chain.invoke('삼성전자 관련 소식들 다 가져와서 요약해줘')"
   ]
  },
  {
   "cell_type": "code",
   "execution_count": 13,
   "metadata": {},
   "outputs": [
    {
     "data": {
      "text/plain": [
       "\"삼성전자가 자체 개발한 생성 AI 모델 '삼성 가우스'를 공개했습니다. 삼성 가우스는 언어, 코드, 이미지의 3가지 모델로 구성되어 온디바이스에서 작동 가능하며, 외부로 사용자 정보가 유출될 위험이 없는 안전한 데이터를 통해 학습되었습니다. 또한, 이미지 모델은 창의적인 이미지를 생성하고 기존 이미지를 원하는 대로 변경할 수 있으며, 저해상도 이미지의 고해상도 전환도 지원합니다. 이를 통해 삼성전자는 삼성 가우스를 다양한 제품에 탑재할 계획이며, 온디바이스 AI 기술을 소개하고 있습니다. 또한, 2024년에는 가우스를 탑재한 삼성 스마트폰이 메타의 라마(Llama)2를 탑재한 퀄컴 기기 및 구글 어시스턴트를 적용한 구글 픽셀과 경쟁할 것으로 예상됩니다. 삼성전자의 AI 기술은 산업에서 주목을 받고 있으며, 더 많은 혁신을 기대할 수 있을 것입니다. (출처: data.pdf, page 12)\""
      ]
     },
     "execution_count": 13,
     "metadata": {},
     "output_type": "execute_result"
    }
   ],
   "source": [
    "ans"
   ]
  }
 ],
 "metadata": {
  "kernelspec": {
   "display_name": "Python 3",
   "language": "python",
   "name": "python3"
  },
  "language_info": {
   "codemirror_mode": {
    "name": "ipython",
    "version": 3
   },
   "file_extension": ".py",
   "mimetype": "text/x-python",
   "name": "python",
   "nbconvert_exporter": "python",
   "pygments_lexer": "ipython3",
   "version": "3.12.4"
  }
 },
 "nbformat": 4,
 "nbformat_minor": 2
}
