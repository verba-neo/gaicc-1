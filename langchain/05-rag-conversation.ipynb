{
 "cells": [
  {
   "cell_type": "markdown",
   "metadata": {},
   "source": [
    "`05-rag-conversation.ipynb`"
   ]
  },
  {
   "cell_type": "code",
   "execution_count": null,
   "metadata": {},
   "outputs": [],
   "source": [
    "%pip install -q langchain_pinecone"
   ]
  },
  {
   "cell_type": "code",
   "execution_count": 29,
   "metadata": {},
   "outputs": [
    {
     "data": {
      "text/plain": [
       "True"
      ]
     },
     "execution_count": 29,
     "metadata": {},
     "output_type": "execute_result"
    }
   ],
   "source": [
    "from dotenv import load_dotenv\n",
    "from langchain_community.document_loaders import PyMuPDFLoader\n",
    "from langchain_text_splitters import RecursiveCharacterTextSplitter\n",
    "from langchain_openai import OpenAIEmbeddings, ChatOpenAI\n",
    "from langchain_pinecone import PineconeVectorStore\n",
    "from langchain_core.prompts import PromptTemplate\n",
    "from langchain_core.runnables import RunnablePassthrough\n",
    "from langchain_core.output_parsers import StrOutputParser\n",
    "\n",
    "# 대화 기록 남기기용\n",
    "from langchain_community.chat_message_histories import ChatMessageHistory\n",
    "from langchain_core.runnables.history import RunnableWithMessageHistory\n",
    "\n",
    "# 우리가 만든 함수\n",
    "from pinecone_utils import create_embeddings, get_vectorstore\n",
    "\n",
    "\n",
    "load_dotenv()"
   ]
  },
  {
   "cell_type": "code",
   "execution_count": 7,
   "metadata": {},
   "outputs": [],
   "source": [
    "loader = PyMuPDFLoader('./data.pdf')\n",
    "docs = loader.load()\n",
    "\n",
    "text_splitter = RecursiveCharacterTextSplitter(chunk_size=500, chunk_overlap=100)\n",
    "split_docs = text_splitter.split_documents(docs)\n",
    "\n",
    "index_name = 'gaicc-1'\n",
    "# 최초 1회만 pdf 를 Pinecone Vectorstore에 저장.\n",
    "# create_embeddings(index_name=index_name, docs=split_docs)\n"
   ]
  },
  {
   "cell_type": "code",
   "execution_count": 18,
   "metadata": {},
   "outputs": [
    {
     "data": {
      "text/plain": [
       "[Document(metadata={'author': 'dj', 'creationDate': \"D:20231208132838+09'00'\", 'creator': 'Hwp 2018 10.0.0.13462', 'file_path': './data.pdf', 'format': 'PDF 1.4', 'keywords': '', 'modDate': \"D:20231208132838+09'00'\", 'page': 13.0, 'producer': 'Hancom PDF 1.3.0.542', 'source': './data.pdf', 'subject': '', 'title': '', 'total_pages': 23.0, 'trapped': ''}, page_content='1. 정책/법제  \\n2. 기업/산업 \\n3. 기술/연구 \\n 4. 인력/교육\\n구글, 앤스로픽에 20억 달러 투자로 생성 AI 협력 강화 \\nn 구글이 앤스로픽에 최대 20억 달러 투자에 합의하고 5억 달러를 우선 투자했으며, 앤스로픽은 \\n구글과 클라우드 서비스 사용 계약도 체결\\nn 3대 클라우드 사업자인 구글, 마이크로소프트, 아마존은 차세대 AI 모델의 대표 기업인 \\n앤스로픽 및 오픈AI와 협력을 확대하는 추세\\nKEY Contents\\n£ 구글, 앤스로픽에 최대 20억 달러 투자 합의 및 클라우드 서비스 제공\\nn 구글이 2023년 10월 27일 앤스로픽에 최대 20억 달러를 투자하기로 합의했으며, 이 중 5억 \\n달러를 우선 투자하고 향후 15억 달러를 추가로 투자할 방침\\n∙구글은 2023년 2월 앤스로픽에 이미 5억 5,000만 달러를 투자한 바 있으며, 아마존도 지난 9월 \\n앤스로픽에 최대 40억 달러의 투자 계획을 공개'),\n",
       " Document(metadata={'author': 'dj', 'creationDate': \"D:20231208132838+09'00'\", 'creator': 'Hwp 2018 10.0.0.13462', 'file_path': './data.pdf', 'format': 'PDF 1.4', 'keywords': '', 'modDate': \"D:20231208132838+09'00'\", 'page': 13.0, 'producer': 'Hancom PDF 1.3.0.542', 'source': './data.pdf', 'subject': '', 'title': '', 'total_pages': 23.0, 'trapped': ''}, page_content='∙구글은 2023년 2월 앤스로픽에 이미 5억 5,000만 달러를 투자한 바 있으며, 아마존도 지난 9월 \\n앤스로픽에 최대 40억 달러의 투자 계획을 공개\\n∙한편, 2023년 11월 8일 블룸버그 보도에 따르면 앤스로픽은 구글의 클라우드 서비스 사용을 위해 \\n4년간 30억 달러 규모의 계약을 체결\\n∙오픈AI 창업자 그룹의 일원이었던 다리오(Dario Amodei)와 다니엘라 아모데이(Daniela Amodei) \\n남매가 2021년 설립한 앤스로픽은 챗GPT의 대항마 ‘클로드(Claude)’ LLM을 개발\\nn 아마존과 구글의 앤스로픽 투자에 앞서, 마이크로소프트는 차세대 AI 모델의 대표 주자인 오픈\\nAI와 협력을 확대\\n∙마이크로소프트는 오픈AI에 앞서 투자한 30억 달러에 더해 2023년 1월 추가로 100억 달러를 \\n투자하기로 하면서 오픈AI의 지분 49%를 확보했으며, 오픈AI는 마이크로소프트의 애저(Azure) \\n클라우드 플랫폼을 사용해 AI 모델을 훈련'),\n",
       " Document(metadata={'author': 'dj', 'creationDate': \"D:20231208132838+09'00'\", 'creator': 'Hwp 2018 10.0.0.13462', 'file_path': './data.pdf', 'format': 'PDF 1.4', 'keywords': '', 'modDate': \"D:20231208132838+09'00'\", 'page': 12.0, 'producer': 'Hancom PDF 1.3.0.542', 'source': './data.pdf', 'subject': '', 'title': '', 'total_pages': 23.0, 'trapped': ''}, page_content='사내 소프트웨어 개발에 최적화\\n∙이미지 모델은 창의적인 이미지를 생성하고 기존 이미지를 원하는 대로 바꿀 수 있도록 지원하며 \\n저해상도 이미지의 고해상도 전환도 지원\\nn IT 전문지 테크리퍼블릭(TechRepublic)은 온디바이스 AI가 주요 기술 트렌드로 부상했다며, \\n2024년부터 가우스를 탑재한 삼성 스마트폰이 메타의 라마(Llama)2를 탑재한 퀄컴 기기 및 구글 \\n어시스턴트를 적용한 구글 픽셀(Pixel)과 경쟁할 것으로 예상\\n☞ 출처 : 삼성전자, ‘삼성 AI 포럼’서 자체 개발 생성형 AI ‘삼성 가우스’ 공개, 2023.11.08.\\n삼성전자, ‘삼성 개발자 콘퍼런스 코리아 2023’ 개최, 2023.11.14.\\nTechRepublic, Samsung Gauss: Samsung Research Reveals Generative AI, 2023.11.08.'),\n",
       " Document(metadata={'author': 'dj', 'creationDate': \"D:20231208132838+09'00'\", 'creator': 'Hwp 2018 10.0.0.13462', 'file_path': './data.pdf', 'format': 'PDF 1.4', 'keywords': '', 'modDate': \"D:20231208132838+09'00'\", 'page': 12.0, 'producer': 'Hancom PDF 1.3.0.542', 'source': './data.pdf', 'subject': '', 'title': '', 'total_pages': 23.0, 'trapped': ''}, page_content='최적화된 크기의 모델 선택이 가능\\n∙삼성 가우스는 라이선스나 개인정보를 침해하지 않는 안전한 데이터를 통해 학습되었으며, \\n온디바이스에서 작동하도록 설계되어 외부로 사용자의 정보가 유출되지 않는 장점을 보유\\n∙삼성전자는 삼성 가우스를 활용한 온디바이스 AI 기술도 소개했으며, 생성 AI 모델을 다양한 제품에 \\n단계적으로 탑재할 계획\\nn 삼성 가우스는 △텍스트를 생성하는 언어모델 △코드를 생성하는 코드 모델 △이미지를 생성하는 \\n이미지 모델의 3개 모델로 구성\\n∙언어 모델은 클라우드와 온디바이스 대상 다양한 모델로 구성되며, 메일 작성, 문서 요약, 번역 업무의 \\n처리를 지원\\n∙코드 모델 기반의 AI 코딩 어시스턴트 ‘코드아이(code.i)’는 대화형 인터페이스로 서비스를 제공하며 \\n사내 소프트웨어 개발에 최적화\\n∙이미지 모델은 창의적인 이미지를 생성하고 기존 이미지를 원하는 대로 바꿀 수 있도록 지원하며 \\n저해상도 이미지의 고해상도 전환도 지원')]"
      ]
     },
     "execution_count": 18,
     "metadata": {},
     "output_type": "execute_result"
    }
   ],
   "source": [
    "vectorstore.similarity_search('구글 관련 정보를 모두 알려줘')"
   ]
  },
  {
   "cell_type": "code",
   "execution_count": 41,
   "metadata": {},
   "outputs": [],
   "source": [
    "vectorstore = get_vectorstore(index_name)\n",
    "retriever = vectorstore.as_retriever()\n",
    "text = '''\n",
    "넌 질문-답변을 도와주는 AI 비서야.\n",
    "먼저 Previous Chat History 에 이전 대화 내용이 들어가 있을 거야.\n",
    "해당 내용을 잘 읽고, 아래 제공되는 Context를 통해서 사용자 Question에 대해 답을 해줘야해.\n",
    "\n",
    "\n",
    "Context에는 직접적으로 없어도, 추론하거나 계산할 수 있는 답변은 최대한 만들어 봐.\n",
    "그리고 관련 내용을 말할때는, pdf 몇 페이지이서 찾은 내용인지도 말해줘.\n",
    "\n",
    "답은 적절히 줄바꿈을 통해 문단을 나눠줘. 답변은 한국어로 만들어 줘. \n",
    "\n",
    "# Previous Chat History\n",
    "{chat_history}\n",
    "\n",
    "# Question:\n",
    "{question}\n",
    "\n",
    "# Context:\n",
    "{context}\n",
    "\n",
    "# Answer:\n",
    "'''\n",
    "prompt = PromptTemplate.from_template(text)\n",
    "llm = ChatOpenAI(model='gpt-3.5-turbo', temperature=0.5)\n",
    "parser = StrOutputParser()\n",
    "\n",
    "\n",
    "from operator import itemgetter\n",
    "chain = (\n",
    "    {   \n",
    "        'chat_history': itemgetter('chat_history'),\n",
    "        'context': itemgetter('question') |  retriever,\n",
    "        'question': itemgetter('question')  \n",
    "    }\n",
    "    | prompt\n",
    "    | llm\n",
    "    | parser\n",
    ")\n",
    "\n"
   ]
  },
  {
   "cell_type": "code",
   "execution_count": 32,
   "metadata": {},
   "outputs": [],
   "source": [
    "# 기존 대화 내용 기록 보관소 dict\n",
    "store = {}\n",
    "\n",
    "def get_session_history(session_id):\n",
    "    print(f'[대화ID]: {session_id}를 불러옵니다...')\n",
    "    # 채팅 보관소에 없다면\n",
    "    if session_id not in store:\n",
    "        # 새로 만든다\n",
    "        store[session_id] = ChatMessageHistory()\n",
    "    \n",
    "    # 있으면 그대로 주고, 없으면 방금 위에서 만든걸 준다.\n",
    "    return store[session_id]"
   ]
  },
  {
   "cell_type": "code",
   "execution_count": 34,
   "metadata": {},
   "outputs": [],
   "source": [
    "rag_with_history = RunnableWithMessageHistory(\n",
    "    chain,\n",
    "    get_session_history,\n",
    "    input_messages_key='question',\n",
    "    history_messages_key='chat_history'\n",
    ")"
   ]
  },
  {
   "cell_type": "code",
   "execution_count": 40,
   "metadata": {},
   "outputs": [
    {
     "name": "stdout",
     "output_type": "stream",
     "text": [
      "[대화ID]: qwer를 불러옵니다...\n"
     ]
    },
    {
     "data": {
      "text/plain": [
       "'삼성전자가 삼성 가우스라는 온디바이스 AI 모델을 공개했고, 이 모델은 언어, 코드, 이미지의 3가지 모델로 구성되어 안전한 데이터를 활용하여 개인정보 침해를 방지하는 장점을 가지고 있습니다. 또한, 삼성전자는 이 모델을 다양한 제품에 탑재할 계획이라고 합니다. 이는 온디바이스 AI 기술이 주요 기술 트렌드로 인식되고 있으며, 삼성 스마트폰이 메타의 라마2나 구글 어시스턴트와 경쟁할 것으로 예상되는 내용입니다. (참고: data.pdf, 12페이지, 22페이지)'"
      ]
     },
     "execution_count": 40,
     "metadata": {},
     "output_type": "execute_result"
    }
   ],
   "source": [
    "rag_with_history.invoke(\n",
    "    # 우리가 실제로 물어볼 질문\n",
    "    {'question': '삼성전자 관련 다 말해줘'},\n",
    "    # 이 대화가 어떤 대화기록 id (session_id)에 소속되는지 작성되었는지\n",
    "    config={'configurable': {'session_id': 'qwer'}}\n",
    ")"
   ]
  },
  {
   "cell_type": "code",
   "execution_count": 38,
   "metadata": {},
   "outputs": [
    {
     "data": {
      "text/plain": [
       "{'qwer': InMemoryChatMessageHistory(messages=[HumanMessage(content='삼성전자 관련 정보를 다 가져와'), AIMessage(content='삼성전자는 온디바이스에서 작동 가능한 삼성 가우스라는 자체 개발 생성 AI 모델을 공개했습니다. 삼성 가우스는 언어, 코드, 이미지의 3개 모델로 구성되어 있으며, 안전한 데이터를 통해 학습되어 개인정보를 침해하지 않는 장점을 가지고 있습니다. 또한, 삼성전자는 삼성 가우스를 다양한 제품에 단계적으로 탑재할 계획이라고 합니다. 이 모델은 언어 모델, 코드 모델, 이미지 모델로 구성되어 있으며, 각각의 모델은 다양한 기능을 제공합니다. 또한, 온디바이스 AI가 주요 기술 트렌드로 인식되고 있고, 삼성 스마트폰이 가우스를 탑재하여 메타의 라마2나 구글 어시스턴트를 탑재한 기기와 경쟁할 것으로 예상되고 있습니다. (참고: data.pdf, 12페이지, 22페이지)'), HumanMessage(content='위에 답변과 비슷한 소식들은 없어?'), AIMessage(content='예, 최근 소식 중에서는 삼성전자가 삼성 가우스라는 온디바이스 AI 모델을 공개한 것이 큰 소식입니다. 이 모델은 언어, 코드, 이미지의 3가지 모델로 구성되어 있으며, 안전한 데이터를 활용하여 학습되어 개인정보 침해를 방지하는 장점을 가지고 있습니다. 또한, 삼성전자는 이 모델을 다양한 제품에 탑재할 계획이라고 합니다. 이는 온디바이스 AI 기술이 주요 기술 트렌드로 인식되고 있고, 삼성 스마트폰이 메타의 라마2나 구글 어시스턴트와 경쟁할 것으로 예상되는 중요한 소식입니다. (참고: data.pdf, 12페이지, 22페이지)')]),\n",
       " 'asdf': InMemoryChatMessageHistory(messages=[HumanMessage(content='구글정보 다 가져와'), AIMessage(content='구글은 2023년 2월 앤스로픽에 이미 5억 5,000만 달러를 투자한 바 있으며, 아마존도 지난 9월 앤스로픽에 최대 40억 달러의 투자 계획을 공개했습니다. 구글은 클라우드 서비스 사용을 위해 앤스로픽과 4년간 30억 달러 규모의 계약을 체결했습니다. 이러한 투자와 계약을 통해 구글은 인공지능 기술과 클라우드 분야에서의 경쟁력을 강화하고 있는 것으로 보입니다. (참조: data.pdf, 13페이지)\\n\\n이에 따라 구글은 앤스로픽을 통해 챗GPT의 대항마 ‘클로드(Claude)’ LLM을 개발하고 있습니다. 앤스로픽은 오픈AI 창업자 그룹의 일원이었던 다리오와 다니엘라 아모데이 남매가 설립한 기업으로, 구글과 아마존의 투자에 앞서 마이크로소프트와의 협력을 통해 AI 모델을 개발하고 있습니다. 이러한 협력과 투자를 통해 구글은 AI 기술 분야에서의 선도적인 위치를 유지하고 있습니다. (참조: data.pdf, 13페이지)')])}"
      ]
     },
     "execution_count": 38,
     "metadata": {},
     "output_type": "execute_result"
    }
   ],
   "source": [
    "store"
   ]
  },
  {
   "cell_type": "code",
   "execution_count": null,
   "metadata": {},
   "outputs": [],
   "source": []
  }
 ],
 "metadata": {
  "kernelspec": {
   "display_name": "Python 3",
   "language": "python",
   "name": "python3"
  },
  "language_info": {
   "codemirror_mode": {
    "name": "ipython",
    "version": 3
   },
   "file_extension": ".py",
   "mimetype": "text/x-python",
   "name": "python",
   "nbconvert_exporter": "python",
   "pygments_lexer": "ipython3",
   "version": "3.12.4"
  }
 },
 "nbformat": 4,
 "nbformat_minor": 2
}
