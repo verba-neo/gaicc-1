{
 "cells": [
  {
   "cell_type": "code",
   "execution_count": null,
   "metadata": {},
   "outputs": [],
   "source": [
    "# telgram.ipynb\n",
    "import requests"
   ]
  },
  {
   "cell_type": "code",
   "execution_count": null,
   "metadata": {},
   "outputs": [],
   "source": [
    "# bot 의 주민번호\n",
    "BOT_TOKEN = '7333426597:AAE9ZwENgHMEeWhh6vheuevD_rgLVAiaLzM'\n",
    "\n",
    "BASE_URL = f'https://api.telegram.org/bot{BOT_TOKEN}'\n",
    "\n",
    "print(BASE_URL)"
   ]
  },
  {
   "cell_type": "code",
   "execution_count": null,
   "metadata": {},
   "outputs": [],
   "source": [
    "res = requests.get(BASE_URL + '/getMe')\n",
    "res.json()"
   ]
  },
  {
   "cell_type": "code",
   "execution_count": null,
   "metadata": {},
   "outputs": [],
   "source": [
    "# /getUpdates 요청 => 응답을 받고 => 지금 메세지 보낸 chat_id 뽑기 \n",
    "res = requests.get(BASE_URL + '/getUpdates')\n",
    "data = res.json()\n",
    "data"
   ]
  },
  {
   "cell_type": "code",
   "execution_count": null,
   "metadata": {},
   "outputs": [],
   "source": [
    "# 전체 채팅 기록 - 최신 메시지 - message 정보에서 - 대화 - 누가 보냈는가\n",
    "sender_id = data['result'][-1]['message']['chat']['id']\n",
    "# 최신 메시지의 내용\n",
    "msg = data['result'][-1]['message']['text']"
   ]
  },
  {
   "cell_type": "code",
   "execution_count": null,
   "metadata": {},
   "outputs": [],
   "source": [
    "# my_id 사용자에게 msg 를 전송하라 (requests.get())\n",
    "p = {\n",
    "    'chat_id': sender_id,\n",
    "    'text': msg,\n",
    "}\n",
    "res = requests.get(BASE_URL + '/sendMessage', params=p)"
   ]
  },
  {
   "cell_type": "code",
   "execution_count": null,
   "metadata": {},
   "outputs": [],
   "source": [
    "res.json()"
   ]
  },
  {
   "cell_type": "code",
   "execution_count": null,
   "metadata": {},
   "outputs": [],
   "source": [
    "for i in range(5):\n",
    "    requests.get(BASE_URL + '/sendMessage', params=p)"
   ]
  },
  {
   "cell_type": "code",
   "execution_count": 70,
   "metadata": {},
   "outputs": [
    {
     "data": {
      "text/plain": [
       "'칼로리 샌드위치 두유'"
      ]
     },
     "execution_count": 70,
     "metadata": {},
     "output_type": "execute_result"
    }
   ],
   "source": [
    "# 조건\n",
    "\n",
    "msg = input('사용자 입력: ')\n",
    "msg"
   ]
  },
  {
   "cell_type": "code",
   "execution_count": null,
   "metadata": {},
   "outputs": [],
   "source": []
  },
  {
   "cell_type": "code",
   "execution_count": 73,
   "metadata": {},
   "outputs": [
    {
     "name": "stdout",
     "output_type": "stream",
     "text": [
      "칼로리 계산기는 준비중입니다..['샌드위치', '두유']\n"
     ]
    }
   ],
   "source": [
    "command = msg.split()[0]\n",
    "args = msg.split()[1:]\n",
    "\n",
    "if command == '안녕':\n",
    "    reply = '안녕하세요'\n",
    "\n",
    "elif command == '로또':\n",
    "    import random\n",
    "    reply = str(random.sample(range(1, 46), 6))\n",
    "\n",
    "elif command == '최저가':\n",
    "    #검색할 상품\n",
    "    product = args[0]\n",
    "    # Naver API 로 최저가 검색 기능 활용.\n",
    "    reply = f'{최저가}, {상세링크}'\n",
    "\n",
    "else:\n",
    "    reply = '모르는 명령어 입니다.'\n",
    "\n",
    "print(reply)"
   ]
  },
  {
   "cell_type": "code",
   "execution_count": 76,
   "metadata": {},
   "outputs": [
    {
     "data": {
      "text/plain": [
       "[]"
      ]
     },
     "execution_count": 76,
     "metadata": {},
     "output_type": "execute_result"
    }
   ],
   "source": [
    "s = '로또'\n",
    "s.split()[1:]"
   ]
  }
 ],
 "metadata": {
  "kernelspec": {
   "display_name": "Python 3",
   "language": "python",
   "name": "python3"
  },
  "language_info": {
   "codemirror_mode": {
    "name": "ipython",
    "version": 3
   },
   "file_extension": ".py",
   "mimetype": "text/x-python",
   "name": "python",
   "nbconvert_exporter": "python",
   "pygments_lexer": "ipython3",
   "version": "3.12.4"
  }
 },
 "nbformat": 4,
 "nbformat_minor": 2
}
