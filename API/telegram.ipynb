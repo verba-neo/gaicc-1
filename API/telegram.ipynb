{
 "cells": [
  {
   "cell_type": "code",
   "execution_count": 1,
   "metadata": {},
   "outputs": [],
   "source": [
    "# telgram.ipynb\n",
    "import requests"
   ]
  },
  {
   "cell_type": "code",
   "execution_count": 2,
   "metadata": {},
   "outputs": [
    {
     "name": "stdout",
     "output_type": "stream",
     "text": [
      "https://api.telegram.org/bot7333426597:AAE9ZwENgHMEeWhh6vheuevD_rgLVAiaLzM\n"
     ]
    }
   ],
   "source": [
    "# bot 의 주민번호\n",
    "BOT_TOKEN = '7333426597:AAE9ZwENgHMEeWhh6vheuevD_rgLVAiaLzM'\n",
    "\n",
    "BASE_URL = f'https://api.telegram.org/bot{BOT_TOKEN}'\n",
    "\n",
    "print(BASE_URL)"
   ]
  },
  {
   "cell_type": "code",
   "execution_count": null,
   "metadata": {},
   "outputs": [],
   "source": [
    "res = requests.get(BASE_URL + '/getMe')\n",
    "res.json()"
   ]
  },
  {
   "cell_type": "code",
   "execution_count": 3,
   "metadata": {},
   "outputs": [
    {
     "data": {
      "text/plain": [
       "{'ok': True,\n",
       " 'result': [{'update_id': 627999744,\n",
       "   'message': {'message_id': 2,\n",
       "    'from': {'id': 765946187,\n",
       "     'is_bot': False,\n",
       "     'first_name': '태영',\n",
       "     'last_name': '유',\n",
       "     'language_code': 'ko'},\n",
       "    'chat': {'id': 765946187,\n",
       "     'first_name': '태영',\n",
       "     'last_name': '유',\n",
       "     'type': 'private'},\n",
       "    'date': 1720145732,\n",
       "    'text': '아아 테스트 메세지'}},\n",
       "  {'update_id': 627999745,\n",
       "   'message': {'message_id': 3,\n",
       "    'from': {'id': 765946187,\n",
       "     'is_bot': False,\n",
       "     'first_name': '태영',\n",
       "     'last_name': '유',\n",
       "     'language_code': 'ko'},\n",
       "    'chat': {'id': 765946187,\n",
       "     'first_name': '태영',\n",
       "     'last_name': '유',\n",
       "     'type': 'private'},\n",
       "    'date': 1720145845,\n",
       "    'text': '잘 갔나?'}},\n",
       "  {'update_id': 627999746,\n",
       "   'message': {'message_id': 11,\n",
       "    'from': {'id': 765946187,\n",
       "     'is_bot': False,\n",
       "     'first_name': '태영',\n",
       "     'last_name': '유',\n",
       "     'language_code': 'ko'},\n",
       "    'chat': {'id': 765946187,\n",
       "     'first_name': '태영',\n",
       "     'last_name': '유',\n",
       "     'type': 'private'},\n",
       "    'date': 1720154291,\n",
       "    'text': '3번째 메시지'}},\n",
       "  {'update_id': 627999747,\n",
       "   'message': {'message_id': 13,\n",
       "    'from': {'id': 765946187,\n",
       "     'is_bot': False,\n",
       "     'first_name': '태영',\n",
       "     'last_name': '유',\n",
       "     'language_code': 'ko'},\n",
       "    'chat': {'id': 765946187,\n",
       "     'first_name': '태영',\n",
       "     'last_name': '유',\n",
       "     'type': 'private'},\n",
       "    'date': 1720154841,\n",
       "    'text': '안녕하세요'}},\n",
       "  {'update_id': 627999748,\n",
       "   'message': {'message_id': 15,\n",
       "    'from': {'id': 765946187,\n",
       "     'is_bot': False,\n",
       "     'first_name': '태영',\n",
       "     'last_name': '유',\n",
       "     'language_code': 'ko'},\n",
       "    'chat': {'id': 765946187,\n",
       "     'first_name': '태영',\n",
       "     'last_name': '유',\n",
       "     'type': 'private'},\n",
       "    'date': 1720154861,\n",
       "    'text': '뭐여 왜 똑같이 말함'}},\n",
       "  {'update_id': 627999749,\n",
       "   'message': {'message_id': 17,\n",
       "    'from': {'id': 765946187,\n",
       "     'is_bot': False,\n",
       "     'first_name': '태영',\n",
       "     'last_name': '유',\n",
       "     'language_code': 'ko'},\n",
       "    'chat': {'id': 765946187,\n",
       "     'first_name': '태영',\n",
       "     'last_name': '유',\n",
       "     'type': 'private'},\n",
       "    'date': 1720157964,\n",
       "    'text': '로또'}},\n",
       "  {'update_id': 627999750,\n",
       "   'message': {'message_id': 20,\n",
       "    'from': {'id': 765946187,\n",
       "     'is_bot': False,\n",
       "     'first_name': '태영',\n",
       "     'last_name': '유',\n",
       "     'language_code': 'ko'},\n",
       "    'chat': {'id': 765946187,\n",
       "     'first_name': '태영',\n",
       "     'last_name': '유',\n",
       "     'type': 'private'},\n",
       "    'date': 1720158015,\n",
       "    'text': '안녕'}},\n",
       "  {'update_id': 627999751,\n",
       "   'message': {'message_id': 23,\n",
       "    'from': {'id': 765946187,\n",
       "     'is_bot': False,\n",
       "     'first_name': '태영',\n",
       "     'last_name': '유',\n",
       "     'language_code': 'ko'},\n",
       "    'chat': {'id': 765946187,\n",
       "     'first_name': '태영',\n",
       "     'last_name': '유',\n",
       "     'type': 'private'},\n",
       "    'date': 1720158799,\n",
       "    'text': '칼로리 밥 두부 계란 김치 멸치'}},\n",
       "  {'update_id': 627999752,\n",
       "   'message': {'message_id': 25,\n",
       "    'from': {'id': 765946187,\n",
       "     'is_bot': False,\n",
       "     'first_name': '태영',\n",
       "     'last_name': '유',\n",
       "     'language_code': 'ko'},\n",
       "    'chat': {'id': 765946187,\n",
       "     'first_name': '태영',\n",
       "     'last_name': '유',\n",
       "     'type': 'private'},\n",
       "    'date': 1720158909,\n",
       "    'text': '더하기 1 2 3 4 5 6'}},\n",
       "  {'update_id': 627999753,\n",
       "   'message': {'message_id': 27,\n",
       "    'from': {'id': 765946187,\n",
       "     'is_bot': False,\n",
       "     'first_name': '태영',\n",
       "     'last_name': '유',\n",
       "     'language_code': 'ko'},\n",
       "    'chat': {'id': 765946187,\n",
       "     'first_name': '태영',\n",
       "     'last_name': '유',\n",
       "     'type': 'private'},\n",
       "    'date': 1720158938,\n",
       "    'text': '로또결과 1123'}}]}"
      ]
     },
     "execution_count": 3,
     "metadata": {},
     "output_type": "execute_result"
    }
   ],
   "source": [
    "# /getUpdates 요청 => 응답을 받고 => 지금 메세지 보낸 chat_id 뽑기 \n",
    "res = requests.get(BASE_URL + '/getUpdates')\n",
    "data = res.json()\n",
    "data"
   ]
  },
  {
   "cell_type": "code",
   "execution_count": 4,
   "metadata": {},
   "outputs": [],
   "source": [
    "# 전체 채팅 기록 - 최신 메시지 - message 정보에서 - 대화 - 누가 보냈는가\n",
    "sender_id = data['result'][-1]['message']['chat']['id']\n",
    "# 최신 메시지의 내용\n",
    "msg = data['result'][-1]['message']['text']"
   ]
  },
  {
   "cell_type": "code",
   "execution_count": null,
   "metadata": {},
   "outputs": [],
   "source": [
    "# my_id 사용자에게 msg 를 전송하라 (requests.get())\n",
    "p = {\n",
    "    'chat_id': sender_id,\n",
    "    'text': msg,\n",
    "}\n",
    "res = requests.get(BASE_URL + '/sendMessage', params=p)"
   ]
  },
  {
   "cell_type": "code",
   "execution_count": null,
   "metadata": {},
   "outputs": [],
   "source": [
    "res.json()"
   ]
  },
  {
   "cell_type": "code",
   "execution_count": null,
   "metadata": {},
   "outputs": [],
   "source": [
    "for i in range(5):\n",
    "    requests.get(BASE_URL + '/sendMessage', params=p)"
   ]
  },
  {
   "cell_type": "code",
   "execution_count": null,
   "metadata": {},
   "outputs": [],
   "source": [
    "# 조건\n",
    "\n",
    "msg = input('사용자 입력: ')\n",
    "msg"
   ]
  },
  {
   "cell_type": "code",
   "execution_count": null,
   "metadata": {},
   "outputs": [],
   "source": [
    "URL = 'https://openapi.naver.com/v1/search/shop.json'\n",
    "h = {\n",
    "    'X-Naver-Client-Id': NAVER_CLIENT_ID,\n",
    "    'X-Naver-Client-Secret': NAVER_CLIENT_SECRET,\n",
    "}\n",
    "\n",
    "p = {\n",
    "    'query': 'playstation5',\n",
    "    'display': 1,\n",
    "}\n",
    "\n",
    "res = requests.get(URL, headers=h, params=p)\n",
    "data = res.json()"
   ]
  },
  {
   "cell_type": "code",
   "execution_count": null,
   "metadata": {},
   "outputs": [],
   "source": [
    "command = msg.split()[0]\n",
    "args = msg.split()[1:]\n",
    "\n",
    "if command == '안녕':\n",
    "    reply = '안녕하세요'\n",
    "\n",
    "elif command == '로또':\n",
    "    import random\n",
    "    reply = str(random.sample(range(1, 46), 6))\n",
    "\n",
    "elif command == '최저가':\n",
    "    #검색할 상품\n",
    "    product = args[0]\n",
    "    # Naver API 로 최저가 검색 기능 활용.\n",
    "    reply = f'{최저가}, {상세링크}'\n",
    "\n",
    "else:\n",
    "    reply = '모르는 명령어 입니다.'\n",
    "\n",
    "print(reply)"
   ]
  },
  {
   "cell_type": "code",
   "execution_count": null,
   "metadata": {},
   "outputs": [],
   "source": [
    "s = '로또'\n",
    "s.split()[1:]"
   ]
  }
 ],
 "metadata": {
  "kernelspec": {
   "display_name": "Python 3",
   "language": "python",
   "name": "python3"
  },
  "language_info": {
   "codemirror_mode": {
    "name": "ipython",
    "version": 3
   },
   "file_extension": ".py",
   "mimetype": "text/x-python",
   "name": "python",
   "nbconvert_exporter": "python",
   "pygments_lexer": "ipython3",
   "version": "3.12.4"
  }
 },
 "nbformat": 4,
 "nbformat_minor": 2
}
