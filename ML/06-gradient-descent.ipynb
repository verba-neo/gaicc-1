{
 "cells": [
  {
   "cell_type": "markdown",
   "metadata": {},
   "source": [
    "06-gradient-descent.ipynb"
   ]
  },
  {
   "cell_type": "code",
   "execution_count": 4,
   "metadata": {},
   "outputs": [],
   "source": [
    "import pandas as pd\n",
    "from sklearn.model_selection import train_test_split\n",
    "from sklearn.preprocessing import StandardScaler"
   ]
  },
  {
   "cell_type": "code",
   "execution_count": 5,
   "metadata": {},
   "outputs": [],
   "source": [
    "df = pd.read_csv('https://bit.ly/fish_csv_data')\n",
    "\n",
    "X = df.iloc[:, 1:]\n",
    "y = df.iloc[:,  0]\n",
    "\n",
    "train_input, test_input, train_target, test_target = train_test_split(\n",
    "    X, y, random_state=42\n",
    ")\n",
    "\n",
    "scaler = StandardScaler()\n",
    "scaler.fit(train_input)\n",
    "\n",
    "train_scaled = scaler.transform(train_input)\n",
    "test_scaled = scaler.transform(test_input)"
   ]
  },
  {
   "cell_type": "code",
   "execution_count": 37,
   "metadata": {},
   "outputs": [
    {
     "name": "stdout",
     "output_type": "stream",
     "text": [
      "Train => 0.773109243697479\n",
      "Test => 0.775\n"
     ]
    },
    {
     "name": "stderr",
     "output_type": "stream",
     "text": [
      "c:\\Users\\1-00\\AppData\\Local\\Programs\\Python\\Python312\\Lib\\site-packages\\sklearn\\linear_model\\_stochastic_gradient.py:744: ConvergenceWarning: Maximum number of iteration reached before convergence. Consider increasing max_iter to improve the fit.\n",
      "  warnings.warn(\n"
     ]
    }
   ],
   "source": [
    "from sklearn.linear_model import SGDClassifier\n",
    "# Stochastic Gradient Descent\n",
    "\n",
    "# 로지스틱 회귀를, 확률론적 경사하강법으로 학습시키겠다.\n",
    "sc = SGDClassifier(loss='log_loss', max_iter=10, random_state=42)\n",
    "sc.fit(train_scaled, train_target)\n",
    "\n",
    "print('Train =>', sc.score(train_scaled, train_target))\n",
    "print('Test =>', sc.score(test_scaled, test_target))"
   ]
  },
  {
   "cell_type": "code",
   "execution_count": 35,
   "metadata": {},
   "outputs": [
    {
     "name": "stdout",
     "output_type": "stream",
     "text": [
      "Train => 0.8151260504201681\n",
      "Test => 0.8\n"
     ]
    }
   ],
   "source": [
    "sc.partial_fit(train_scaled, train_target)\n",
    "\n",
    "print('Train =>', sc.score(train_scaled, train_target))\n",
    "print('Test =>', sc.score(test_scaled, test_target))"
   ]
  },
  {
   "cell_type": "code",
   "execution_count": 62,
   "metadata": {},
   "outputs": [
    {
     "data": {
      "text/plain": [
       "270"
      ]
     },
     "execution_count": 62,
     "metadata": {},
     "output_type": "execute_result"
    }
   ],
   "source": [
    "import numpy as np\n",
    "sc = SGDClassifier(loss='log_loss', random_state=42)\n",
    "train_scores = []\n",
    "test_scores = []\n",
    "classes = np.unique(train_target)\n",
    "\n",
    "for i in range(300):\n",
    "    sc.partial_fit(train_scaled, train_target, classes=classes)\n",
    "\n",
    "    s1 = sc.score(train_scaled, train_target)\n",
    "    s2 = sc.score(test_scaled, test_target)\n",
    "\n",
    "    train_scores.append(s1)\n",
    "    test_scores.append(s2)\n",
    "\n",
    "max(train_scores)\n",
    "train_scores.index(0.9663865546218487)"
   ]
  },
  {
   "cell_type": "code",
   "execution_count": 57,
   "metadata": {},
   "outputs": [
    {
     "data": {
      "image/png": "[encoded data removed]",
      "text/plain": [
       "<Figure size 640x480 with 1 Axes>"
      ]
     },
     "metadata": {},
     "output_type": "display_data"
    }
   ],
   "source": [
    "import matplotlib.pyplot as plt\n",
    "plt.plot(train_scores)\n",
    "plt.plot(test_scores)\n",
    "plt.xlabel('epochs => N')\n",
    "plt.ylabel('score / acuuracy')\n",
    "plt.show()\n"
   ]
  },
  {
   "cell_type": "code",
   "execution_count": 68,
   "metadata": {},
   "outputs": [
    {
     "name": "stdout",
     "output_type": "stream",
     "text": [
      "Train => 0.957983193277311\n",
      "Test => 0.925\n"
     ]
    }
   ],
   "source": [
    "#                logistic regression  epochs max                epochs 끝까지 돌려라\n",
    "sc = SGDClassifier(loss='log_loss', max_iter=100, random_state=42, tol=None)\n",
    "sc.fit(train_scaled, train_target)\n",
    "\n",
    "print('Train =>', sc.score(train_scaled, train_target))\n",
    "print('Test =>', sc.score(test_scaled, test_target))"
   ]
  }
 ],
 "metadata": {
  "kernelspec": {
   "display_name": "Python 3",
   "language": "python",
   "name": "python3"
  },
  "language_info": {
   "codemirror_mode": {
    "name": "ipython",
    "version": 3
   },
   "file_extension": ".py",
   "mimetype": "text/x-python",
   "name": "python",
   "nbconvert_exporter": "python",
   "pygments_lexer": "ipython3",
   "version": "3.12.4"
  }
 },
 "nbformat": 4,
 "nbformat_minor": 2
}
