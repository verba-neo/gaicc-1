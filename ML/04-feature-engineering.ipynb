{
 "cells": [
  {
   "cell_type": "code",
   "execution_count": null,
   "id": "a3bf5d0f-f869-4903-9fa6-5ed314bdbe48",
   "metadata": {},
   "outputs": [],
   "source": [
    "import numpy as np\n",
    "import pandas as pd"
   ]
  },
  {
   "cell_type": "code",
   "execution_count": null,
   "id": "8eb84731-b92a-4d76-b903-c46e72bf9e83",
   "metadata": {},
   "outputs": [],
   "source": [
    "# pandas => Dataframe\n",
    "df = pd.read_csv('https://bit.ly/perch_csv_data')"
   ]
  },
  {
   "cell_type": "code",
   "execution_count": null,
   "id": "114e94a1-0685-4990-aab6-adffaaab1dcd",
   "metadata": {},
   "outputs": [],
   "source": [
    "perch_full = df.to_numpy()"
   ]
  },
  {
   "cell_type": "code",
   "execution_count": null,
   "id": "e1d78aec-fe73-480c-9db6-d2b71c4e5567",
   "metadata": {},
   "outputs": [],
   "source": [
    "perch_weight = np.array([5.9, 32.0, 40.0, 51.5, 70.0, 100.0, 78.0, 80.0, 85.0, 85.0, 110.0,\n",
    "       115.0, 125.0, 130.0, 120.0, 120.0, 130.0, 135.0, 110.0, 130.0,\n",
    "       150.0, 145.0, 150.0, 170.0, 225.0, 145.0, 188.0, 180.0, 197.0,\n",
    "       218.0, 300.0, 260.0, 265.0, 250.0, 250.0, 300.0, 320.0, 514.0,\n",
    "       556.0, 840.0, 685.0, 700.0, 700.0, 690.0, 900.0, 650.0, 820.0,\n",
    "       850.0, 900.0, 1015.0, 820.0, 1100.0, 1000.0, 1100.0, 1000.0,\n",
    "       1000.0])"
   ]
  },
  {
   "cell_type": "code",
   "execution_count": null,
   "id": "26942c47-5065-47e4-937b-128dca3d87ec",
   "metadata": {},
   "outputs": [],
   "source": [
    "from sklearn.model_selection import train_test_split\n",
    "\n",
    "train_input, test_input, train_target, test_target = train_test_split(\n",
    "    perch_full, perch_weight, random_state=42\n",
    ")"
   ]
  },
  {
   "cell_type": "code",
   "execution_count": null,
   "id": "bff34aad-86aa-4838-a5b0-83a35793f111",
   "metadata": {},
   "outputs": [],
   "source": [
    "from sklearn.preprocessing import PolynomialFeatures\n",
    "poly = PolynomialFeatures()\n",
    "\n",
    "poly.fit([[2, 3]])\n",
    "poly.transform([[2, 3]])"
   ]
  },
  {
   "cell_type": "code",
   "execution_count": null,
   "id": "47349f93-a6df-41f1-b443-47f845f0eacb",
   "metadata": {},
   "outputs": [],
   "source": [
    "3.0e+0"
   ]
  },
  {
   "cell_type": "code",
   "execution_count": null,
   "id": "f9d376a9-5c4c-4a9d-881f-4bfd164aaa4d",
   "metadata": {},
   "outputs": [],
   "source": [
    "poly = PolynomialFeatures()\n",
    "poly.fit(train_input)\n",
    "train_poly = poly.transform(train_input)"
   ]
  },
  {
   "cell_type": "code",
   "execution_count": null,
   "id": "f12c8364-657a-47ce-8204-301109257764",
   "metadata": {},
   "outputs": [],
   "source": [
    "test_poly = poly.transform(test_input)"
   ]
  },
  {
   "cell_type": "code",
   "execution_count": null,
   "id": "23c390db-f0f2-4479-b12a-2ab2967e46da",
   "metadata": {},
   "outputs": [],
   "source": [
    "from sklearn.linear_model import LinearRegression\n",
    "lr = LinearRegression()\n",
    "lr.fit(train_poly, train_target)"
   ]
  },
  {
   "cell_type": "code",
   "execution_count": null,
   "id": "59baebf0-4dd7-403f-8d8f-d6461a9acf44",
   "metadata": {},
   "outputs": [],
   "source": [
    "lr.score(train_poly, train_target)"
   ]
  },
  {
   "cell_type": "code",
   "execution_count": null,
   "id": "35631a6b-f075-474d-86d8-31df5cf24665",
   "metadata": {},
   "outputs": [],
   "source": [
    "lr.score(test_poly, test_target)"
   ]
  },
  {
   "cell_type": "code",
   "execution_count": null,
   "id": "6b9e52cc-fa7d-49ee-9c33-3c55d662bb4a",
   "metadata": {},
   "outputs": [],
   "source": [
    "# 무조건 특성(파라미터)의 차원을 올려버릴 경우\n",
    "poly = PolynomialFeatures(degree=5, include_bias=False)\n",
    "train_5_poly = poly.fit_transform(train_input)\n",
    "test_5_poly = poly.transform(test_input)"
   ]
  },
  {
   "cell_type": "code",
   "execution_count": null,
   "id": "7a609cb3-6994-44a1-9d90-3650ae13c92f",
   "metadata": {},
   "outputs": [],
   "source": [
    "# 훈련 데이터에 대해서는 거의 완벽하게 나옴\n",
    "lr.fit(train_5_poly, train_target)\n",
    "lr.score(train_5_poly, train_target)"
   ]
  },
  {
   "cell_type": "code",
   "execution_count": null,
   "id": "30d9a27d-f970-419b-bc8f-a5baa9d9a05b",
   "metadata": {},
   "outputs": [],
   "source": [
    "# 테스트 데이터에서 말도 안되는 점수(Super Overfitting)\n",
    "lr.score(test_5_poly, test_target)"
   ]
  },
  {
   "cell_type": "code",
   "execution_count": null,
   "id": "df796f51",
   "metadata": {},
   "outputs": [],
   "source": [
    "# 표준화 => 규제(과적합)"
   ]
  },
  {
   "cell_type": "code",
   "execution_count": null,
   "id": "84ccbd92",
   "metadata": {},
   "outputs": [],
   "source": [
    "from sklearn.preprocessing import StandardScaler\n",
    "ss = StandardScaler()\n",
    "ss.fit(train_5_poly)\n",
    "# 단순 수치 => 평균(0)에서 얼마나 떨어져 있는가.\n",
    "train_scaled = ss.transform(train_5_poly)\n",
    "test_scaled = ss.transform(test_5_poly)\n"
   ]
  },
  {
   "cell_type": "code",
   "execution_count": null,
   "id": "db3a5e94",
   "metadata": {},
   "outputs": [],
   "source": [
    "# LinearRegression => 기본적인 선형 회귀 예측기\n",
    "# Ridge/Lasso => 선형회귀에 제약을 둬서, 모델의 과적합을 피하고 성능 좋은 모델로 간다.\n",
    "from sklearn.linear_model import Ridge\n",
    "# alpha(규제)값은 1이 기본값 => 하이퍼파라미터(학습전에 인간이 결정해야하는 값)\n",
    "ridge = Ridge(alpha=1)\n",
    "ridge.fit(train_scaled, train_target)\n",
    "\n",
    "ridge.score(train_scaled, train_target)"
   ]
  },
  {
   "cell_type": "code",
   "execution_count": null,
   "id": "1d5b4e39",
   "metadata": {},
   "outputs": [],
   "source": [
    "import matplotlib.pyplot as plt\n",
    "train_scores = []\n",
    "test_scores = []\n",
    "\n",
    "alphas = [0.001, 0.005, 0.01, 0.05, 0.1, 0.5, 1, 5, 10, 50, 100]\n",
    "for alpha in alphas:\n",
    "    ridge = Ridge(alpha=alpha)\n",
    "    ridge.fit(train_scaled, train_target)\n",
    "    score1 = ridge.score(train_scaled, train_target)\n",
    "    score2 = ridge.score(test_scaled, test_target)\n",
    "    train_scores.append(score1)\n",
    "    test_scores.append(score2)\n",
    "\n",
    "plt.plot(np.log10(alphas), train_scores)\n",
    "plt.plot(np.log10(alphas), test_scores)\n",
    "    \n",
    "    "
   ]
  },
  {
   "cell_type": "code",
   "execution_count": null,
   "id": "783d8d57",
   "metadata": {},
   "outputs": [],
   "source": [
    "from sklearn.linear_model import Lasso\n",
    "lasso = Lasso()\n",
    "lasso.fit(train_scaled, train_target)\n",
    "lasso.score(train_scaled, train_target)"
   ]
  },
  {
   "cell_type": "code",
   "execution_count": null,
   "id": "6648e8c6",
   "metadata": {},
   "outputs": [],
   "source": [
    "lasso.score(test_scaled, test_target)"
   ]
  },
  {
   "cell_type": "code",
   "execution_count": null,
   "id": "49d6235d",
   "metadata": {},
   "outputs": [],
   "source": [
    "train_scores = []\n",
    "test_scores = []\n",
    "\n",
    "alphas = [0.001, 0.005, 0.01, 0.05, 0.1, 0.5, 1, 5, 10, 50, 100]\n",
    "for alpha in alphas:\n",
    "    lasso = Lasso(alpha=alpha, max_iter=100000)\n",
    "    lasso.fit(train_scaled, train_target)\n",
    "    score1 = lasso.score(train_scaled, train_target)\n",
    "    score2 = lasso.score(test_scaled, test_target)\n",
    "    train_scores.append(score1)\n",
    "    test_scores.append(score2)\n",
    "\n",
    "plt.plot(np.log10(alphas), train_scores)\n",
    "plt.plot(np.log10(alphas), test_scores)"
   ]
  }
 ],
 "metadata": {
  "kernelspec": {
   "display_name": "Python 3 (ipykernel)",
   "language": "python",
   "name": "python3"
  },
  "language_info": {
   "codemirror_mode": {
    "name": "ipython",
    "version": 3
   },
   "file_extension": ".py",
   "mimetype": "text/x-python",
   "name": "python",
   "nbconvert_exporter": "python",
   "pygments_lexer": "ipython3",
   "version": "3.12.4"
  }
 },
 "nbformat": 4,
 "nbformat_minor": 5
}
