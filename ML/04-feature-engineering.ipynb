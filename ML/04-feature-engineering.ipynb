{
 "cells": [
  {
   "cell_type": "code",
   "execution_count": 1,
   "id": "a3bf5d0f-f869-4903-9fa6-5ed314bdbe48",
   "metadata": {},
   "outputs": [],
   "source": [
    "import numpy as np\n",
    "import pandas as pd"
   ]
  },
  {
   "cell_type": "code",
   "execution_count": 2,
   "id": "8eb84731-b92a-4d76-b903-c46e72bf9e83",
   "metadata": {},
   "outputs": [],
   "source": [
    "# pandas => Dataframe\n",
    "df = pd.read_csv('https://bit.ly/perch_csv_data')"
   ]
  },
  {
   "cell_type": "code",
   "execution_count": 3,
   "id": "114e94a1-0685-4990-aab6-adffaaab1dcd",
   "metadata": {},
   "outputs": [
    {
     "data": {
      "text/plain": [
       "array([[ 8.4 ,  2.11,  1.41],\n",
       "       [13.7 ,  3.53,  2.  ],\n",
       "       [15.  ,  3.82,  2.43],\n",
       "       [16.2 ,  4.59,  2.63],\n",
       "       [17.4 ,  4.59,  2.94],\n",
       "       [18.  ,  5.22,  3.32],\n",
       "       [18.7 ,  5.2 ,  3.12],\n",
       "       [19.  ,  5.64,  3.05],\n",
       "       [19.6 ,  5.14,  3.04],\n",
       "       [20.  ,  5.08,  2.77],\n",
       "       [21.  ,  5.69,  3.56],\n",
       "       [21.  ,  5.92,  3.31],\n",
       "       [21.  ,  5.69,  3.67],\n",
       "       [21.3 ,  6.38,  3.53],\n",
       "       [22.  ,  6.11,  3.41],\n",
       "       [22.  ,  5.64,  3.52],\n",
       "       [22.  ,  6.11,  3.52],\n",
       "       [22.  ,  5.88,  3.52],\n",
       "       [22.  ,  5.52,  4.  ],\n",
       "       [22.5 ,  5.86,  3.62],\n",
       "       [22.5 ,  6.79,  3.62],\n",
       "       [22.7 ,  5.95,  3.63],\n",
       "       [23.  ,  5.22,  3.63],\n",
       "       [23.5 ,  6.28,  3.72],\n",
       "       [24.  ,  7.29,  3.72],\n",
       "       [24.  ,  6.38,  3.82],\n",
       "       [24.6 ,  6.73,  4.17],\n",
       "       [25.  ,  6.44,  3.68],\n",
       "       [25.6 ,  6.56,  4.24],\n",
       "       [26.5 ,  7.17,  4.14],\n",
       "       [27.3 ,  8.32,  5.14],\n",
       "       [27.5 ,  7.17,  4.34],\n",
       "       [27.5 ,  7.05,  4.34],\n",
       "       [27.5 ,  7.28,  4.57],\n",
       "       [28.  ,  7.82,  4.2 ],\n",
       "       [28.7 ,  7.59,  4.64],\n",
       "       [30.  ,  7.62,  4.77],\n",
       "       [32.8 , 10.03,  6.02],\n",
       "       [34.5 , 10.26,  6.39],\n",
       "       [35.  , 11.49,  7.8 ],\n",
       "       [36.5 , 10.88,  6.86],\n",
       "       [36.  , 10.61,  6.74],\n",
       "       [37.  , 10.84,  6.26],\n",
       "       [37.  , 10.57,  6.37],\n",
       "       [39.  , 11.14,  7.49],\n",
       "       [39.  , 11.14,  6.  ],\n",
       "       [39.  , 12.43,  7.35],\n",
       "       [40.  , 11.93,  7.11],\n",
       "       [40.  , 11.73,  7.22],\n",
       "       [40.  , 12.38,  7.46],\n",
       "       [40.  , 11.14,  6.63],\n",
       "       [42.  , 12.8 ,  6.87],\n",
       "       [43.  , 11.93,  7.28],\n",
       "       [43.  , 12.51,  7.42],\n",
       "       [43.5 , 12.6 ,  8.14],\n",
       "       [44.  , 12.49,  7.6 ]])"
      ]
     },
     "execution_count": 3,
     "metadata": {},
     "output_type": "execute_result"
    }
   ],
   "source": [
    "perch_full = df.to_numpy()\n",
    "perch_full"
   ]
  },
  {
   "cell_type": "code",
   "execution_count": 4,
   "id": "e1d78aec-fe73-480c-9db6-d2b71c4e5567",
   "metadata": {},
   "outputs": [],
   "source": [
    "perch_weight = np.array([5.9, 32.0, 40.0, 51.5, 70.0, 100.0, 78.0, 80.0, 85.0, 85.0, 110.0,\n",
    "       115.0, 125.0, 130.0, 120.0, 120.0, 130.0, 135.0, 110.0, 130.0,\n",
    "       150.0, 145.0, 150.0, 170.0, 225.0, 145.0, 188.0, 180.0, 197.0,\n",
    "       218.0, 300.0, 260.0, 265.0, 250.0, 250.0, 300.0, 320.0, 514.0,\n",
    "       556.0, 840.0, 685.0, 700.0, 700.0, 690.0, 900.0, 650.0, 820.0,\n",
    "       850.0, 900.0, 1015.0, 820.0, 1100.0, 1000.0, 1100.0, 1000.0,\n",
    "       1000.0])"
   ]
  },
  {
   "cell_type": "code",
   "execution_count": 5,
   "id": "26942c47-5065-47e4-937b-128dca3d87ec",
   "metadata": {},
   "outputs": [],
   "source": [
    "from sklearn.model_selection import train_test_split\n",
    "\n",
    "train_input, test_input, train_target, test_target = train_test_split(\n",
    "    perch_full, perch_weight, random_state=42\n",
    ")"
   ]
  },
  {
   "cell_type": "code",
   "execution_count": 6,
   "id": "bff34aad-86aa-4838-a5b0-83a35793f111",
   "metadata": {},
   "outputs": [
    {
     "data": {
      "text/plain": [
       "array([[1., 2., 3., 4., 6., 9.]])"
      ]
     },
     "execution_count": 6,
     "metadata": {},
     "output_type": "execute_result"
    }
   ],
   "source": [
    "from sklearn.preprocessing import PolynomialFeatures\n",
    "poly = PolynomialFeatures()\n",
    "\n",
    "poly.fit([[2, 3]])\n",
    "poly.transform([[2, 3]])"
   ]
  },
  {
   "cell_type": "code",
   "execution_count": 7,
   "id": "47349f93-a6df-41f1-b443-47f845f0eacb",
   "metadata": {},
   "outputs": [
    {
     "data": {
      "text/plain": [
       "3.0"
      ]
     },
     "execution_count": 7,
     "metadata": {},
     "output_type": "execute_result"
    }
   ],
   "source": [
    "3.0e+0"
   ]
  },
  {
   "cell_type": "code",
   "execution_count": 8,
   "id": "f9d376a9-5c4c-4a9d-881f-4bfd164aaa4d",
   "metadata": {},
   "outputs": [],
   "source": [
    "poly = PolynomialFeatures()\n",
    "poly.fit(train_input)\n",
    "train_poly = poly.transform(train_input)"
   ]
  },
  {
   "cell_type": "code",
   "execution_count": 9,
   "id": "f12c8364-657a-47ce-8204-301109257764",
   "metadata": {},
   "outputs": [],
   "source": [
    "test_poly = poly.transform(test_input)"
   ]
  },
  {
   "cell_type": "code",
   "execution_count": 10,
   "id": "23c390db-f0f2-4479-b12a-2ab2967e46da",
   "metadata": {},
   "outputs": [
    {
     "data": {
      "text/html": [
       "<style>#sk-container-id-1 {\n",
       "  /* Definition of color scheme common for light and dark mode */\n",
       "  --sklearn-color-text: black;\n",
       "  --sklearn-color-line: gray;\n",
       "  /* Definition of color scheme for unfitted estimators */\n",
       "  --sklearn-color-unfitted-level-0: #fff5e6;\n",
       "  --sklearn-color-unfitted-level-1: #f6e4d2;\n",
       "  --sklearn-color-unfitted-level-2: #ffe0b3;\n",
       "  --sklearn-color-unfitted-level-3: chocolate;\n",
       "  /* Definition of color scheme for fitted estimators */\n",
       "  --sklearn-color-fitted-level-0: #f0f8ff;\n",
       "  --sklearn-color-fitted-level-1: #d4ebff;\n",
       "  --sklearn-color-fitted-level-2: #b3dbfd;\n",
       "  --sklearn-color-fitted-level-3: cornflowerblue;\n",
       "\n",
       "  /* Specific color for light theme */\n",
       "  --sklearn-color-text-on-default-background: var(--sg-text-color, var(--theme-code-foreground, var(--jp-content-font-color1, black)));\n",
       "  --sklearn-color-background: var(--sg-background-color, var(--theme-background, var(--jp-layout-color0, white)));\n",
       "  --sklearn-color-border-box: var(--sg-text-color, var(--theme-code-foreground, var(--jp-content-font-color1, black)));\n",
       "  --sklearn-color-icon: #696969;\n",
       "\n",
       "  @media (prefers-color-scheme: dark) {\n",
       "    /* Redefinition of color scheme for dark theme */\n",
       "    --sklearn-color-text-on-default-background: var(--sg-text-color, var(--theme-code-foreground, var(--jp-content-font-color1, white)));\n",
       "    --sklearn-color-background: var(--sg-background-color, var(--theme-background, var(--jp-layout-color0, #111)));\n",
       "    --sklearn-color-border-box: var(--sg-text-color, var(--theme-code-foreground, var(--jp-content-font-color1, white)));\n",
       "    --sklearn-color-icon: #878787;\n",
       "  }\n",
       "}\n",
       "\n",
       "#sk-container-id-1 {\n",
       "  color: var(--sklearn-color-text);\n",
       "}\n",
       "\n",
       "#sk-container-id-1 pre {\n",
       "  padding: 0;\n",
       "}\n",
       "\n",
       "#sk-container-id-1 input.sk-hidden--visually {\n",
       "  border: 0;\n",
       "  clip: rect(1px 1px 1px 1px);\n",
       "  clip: rect(1px, 1px, 1px, 1px);\n",
       "  height: 1px;\n",
       "  margin: -1px;\n",
       "  overflow: hidden;\n",
       "  padding: 0;\n",
       "  position: absolute;\n",
       "  width: 1px;\n",
       "}\n",
       "\n",
       "#sk-container-id-1 div.sk-dashed-wrapped {\n",
       "  border: 1px dashed var(--sklearn-color-line);\n",
       "  margin: 0 0.4em 0.5em 0.4em;\n",
       "  box-sizing: border-box;\n",
       "  padding-bottom: 0.4em;\n",
       "  background-color: var(--sklearn-color-background);\n",
       "}\n",
       "\n",
       "#sk-container-id-1 div.sk-container {\n",
       "  /* jupyter's `normalize.less` sets `[hidden] { display: none; }`\n",
       "     but bootstrap.min.css set `[hidden] { display: none !important; }`\n",
       "     so we also need the `!important` here to be able to override the\n",
       "     default hidden behavior on the sphinx rendered scikit-learn.org.\n",
       "     See: https://github.com/scikit-learn/scikit-learn/issues/21755 */\n",
       "  display: inline-block !important;\n",
       "  position: relative;\n",
       "}\n",
       "\n",
       "#sk-container-id-1 div.sk-text-repr-fallback {\n",
       "  display: none;\n",
       "}\n",
       "\n",
       "div.sk-parallel-item,\n",
       "div.sk-serial,\n",
       "div.sk-item {\n",
       "  /* draw centered vertical line to link estimators */\n",
       "  background-image: linear-gradient(var(--sklearn-color-text-on-default-background), var(--sklearn-color-text-on-default-background));\n",
       "  background-size: 2px 100%;\n",
       "  background-repeat: no-repeat;\n",
       "  background-position: center center;\n",
       "}\n",
       "\n",
       "/* Parallel-specific style estimator block */\n",
       "\n",
       "#sk-container-id-1 div.sk-parallel-item::after {\n",
       "  content: \"\";\n",
       "  width: 100%;\n",
       "  border-bottom: 2px solid var(--sklearn-color-text-on-default-background);\n",
       "  flex-grow: 1;\n",
       "}\n",
       "\n",
       "#sk-container-id-1 div.sk-parallel {\n",
       "  display: flex;\n",
       "  align-items: stretch;\n",
       "  justify-content: center;\n",
       "  background-color: var(--sklearn-color-background);\n",
       "  position: relative;\n",
       "}\n",
       "\n",
       "#sk-container-id-1 div.sk-parallel-item {\n",
       "  display: flex;\n",
       "  flex-direction: column;\n",
       "}\n",
       "\n",
       "#sk-container-id-1 div.sk-parallel-item:first-child::after {\n",
       "  align-self: flex-end;\n",
       "  width: 50%;\n",
       "}\n",
       "\n",
       "#sk-container-id-1 div.sk-parallel-item:last-child::after {\n",
       "  align-self: flex-start;\n",
       "  width: 50%;\n",
       "}\n",
       "\n",
       "#sk-container-id-1 div.sk-parallel-item:only-child::after {\n",
       "  width: 0;\n",
       "}\n",
       "\n",
       "/* Serial-specific style estimator block */\n",
       "\n",
       "#sk-container-id-1 div.sk-serial {\n",
       "  display: flex;\n",
       "  flex-direction: column;\n",
       "  align-items: center;\n",
       "  background-color: var(--sklearn-color-background);\n",
       "  padding-right: 1em;\n",
       "  padding-left: 1em;\n",
       "}\n",
       "\n",
       "\n",
       "/* Toggleable style: style used for estimator/Pipeline/ColumnTransformer box that is\n",
       "clickable and can be expanded/collapsed.\n",
       "- Pipeline and ColumnTransformer use this feature and define the default style\n",
       "- Estimators will overwrite some part of the style using the `sk-estimator` class\n",
       "*/\n",
       "\n",
       "/* Pipeline and ColumnTransformer style (default) */\n",
       "\n",
       "#sk-container-id-1 div.sk-toggleable {\n",
       "  /* Default theme specific background. It is overwritten whether we have a\n",
       "  specific estimator or a Pipeline/ColumnTransformer */\n",
       "  background-color: var(--sklearn-color-background);\n",
       "}\n",
       "\n",
       "/* Toggleable label */\n",
       "#sk-container-id-1 label.sk-toggleable__label {\n",
       "  cursor: pointer;\n",
       "  display: block;\n",
       "  width: 100%;\n",
       "  margin-bottom: 0;\n",
       "  padding: 0.5em;\n",
       "  box-sizing: border-box;\n",
       "  text-align: center;\n",
       "}\n",
       "\n",
       "#sk-container-id-1 label.sk-toggleable__label-arrow:before {\n",
       "  /* Arrow on the left of the label */\n",
       "  content: \"▸\";\n",
       "  float: left;\n",
       "  margin-right: 0.25em;\n",
       "  color: var(--sklearn-color-icon);\n",
       "}\n",
       "\n",
       "#sk-container-id-1 label.sk-toggleable__label-arrow:hover:before {\n",
       "  color: var(--sklearn-color-text);\n",
       "}\n",
       "\n",
       "/* Toggleable content - dropdown */\n",
       "\n",
       "#sk-container-id-1 div.sk-toggleable__content {\n",
       "  max-height: 0;\n",
       "  max-width: 0;\n",
       "  overflow: hidden;\n",
       "  text-align: left;\n",
       "  /* unfitted */\n",
       "  background-color: var(--sklearn-color-unfitted-level-0);\n",
       "}\n",
       "\n",
       "#sk-container-id-1 div.sk-toggleable__content.fitted {\n",
       "  /* fitted */\n",
       "  background-color: var(--sklearn-color-fitted-level-0);\n",
       "}\n",
       "\n",
       "#sk-container-id-1 div.sk-toggleable__content pre {\n",
       "  margin: 0.2em;\n",
       "  border-radius: 0.25em;\n",
       "  color: var(--sklearn-color-text);\n",
       "  /* unfitted */\n",
       "  background-color: var(--sklearn-color-unfitted-level-0);\n",
       "}\n",
       "\n",
       "#sk-container-id-1 div.sk-toggleable__content.fitted pre {\n",
       "  /* unfitted */\n",
       "  background-color: var(--sklearn-color-fitted-level-0);\n",
       "}\n",
       "\n",
       "#sk-container-id-1 input.sk-toggleable__control:checked~div.sk-toggleable__content {\n",
       "  /* Expand drop-down */\n",
       "  max-height: 200px;\n",
       "  max-width: 100%;\n",
       "  overflow: auto;\n",
       "}\n",
       "\n",
       "#sk-container-id-1 input.sk-toggleable__control:checked~label.sk-toggleable__label-arrow:before {\n",
       "  content: \"▾\";\n",
       "}\n",
       "\n",
       "/* Pipeline/ColumnTransformer-specific style */\n",
       "\n",
       "#sk-container-id-1 div.sk-label input.sk-toggleable__control:checked~label.sk-toggleable__label {\n",
       "  color: var(--sklearn-color-text);\n",
       "  background-color: var(--sklearn-color-unfitted-level-2);\n",
       "}\n",
       "\n",
       "#sk-container-id-1 div.sk-label.fitted input.sk-toggleable__control:checked~label.sk-toggleable__label {\n",
       "  background-color: var(--sklearn-color-fitted-level-2);\n",
       "}\n",
       "\n",
       "/* Estimator-specific style */\n",
       "\n",
       "/* Colorize estimator box */\n",
       "#sk-container-id-1 div.sk-estimator input.sk-toggleable__control:checked~label.sk-toggleable__label {\n",
       "  /* unfitted */\n",
       "  background-color: var(--sklearn-color-unfitted-level-2);\n",
       "}\n",
       "\n",
       "#sk-container-id-1 div.sk-estimator.fitted input.sk-toggleable__control:checked~label.sk-toggleable__label {\n",
       "  /* fitted */\n",
       "  background-color: var(--sklearn-color-fitted-level-2);\n",
       "}\n",
       "\n",
       "#sk-container-id-1 div.sk-label label.sk-toggleable__label,\n",
       "#sk-container-id-1 div.sk-label label {\n",
       "  /* The background is the default theme color */\n",
       "  color: var(--sklearn-color-text-on-default-background);\n",
       "}\n",
       "\n",
       "/* On hover, darken the color of the background */\n",
       "#sk-container-id-1 div.sk-label:hover label.sk-toggleable__label {\n",
       "  color: var(--sklearn-color-text);\n",
       "  background-color: var(--sklearn-color-unfitted-level-2);\n",
       "}\n",
       "\n",
       "/* Label box, darken color on hover, fitted */\n",
       "#sk-container-id-1 div.sk-label.fitted:hover label.sk-toggleable__label.fitted {\n",
       "  color: var(--sklearn-color-text);\n",
       "  background-color: var(--sklearn-color-fitted-level-2);\n",
       "}\n",
       "\n",
       "/* Estimator label */\n",
       "\n",
       "#sk-container-id-1 div.sk-label label {\n",
       "  font-family: monospace;\n",
       "  font-weight: bold;\n",
       "  display: inline-block;\n",
       "  line-height: 1.2em;\n",
       "}\n",
       "\n",
       "#sk-container-id-1 div.sk-label-container {\n",
       "  text-align: center;\n",
       "}\n",
       "\n",
       "/* Estimator-specific */\n",
       "#sk-container-id-1 div.sk-estimator {\n",
       "  font-family: monospace;\n",
       "  border: 1px dotted var(--sklearn-color-border-box);\n",
       "  border-radius: 0.25em;\n",
       "  box-sizing: border-box;\n",
       "  margin-bottom: 0.5em;\n",
       "  /* unfitted */\n",
       "  background-color: var(--sklearn-color-unfitted-level-0);\n",
       "}\n",
       "\n",
       "#sk-container-id-1 div.sk-estimator.fitted {\n",
       "  /* fitted */\n",
       "  background-color: var(--sklearn-color-fitted-level-0);\n",
       "}\n",
       "\n",
       "/* on hover */\n",
       "#sk-container-id-1 div.sk-estimator:hover {\n",
       "  /* unfitted */\n",
       "  background-color: var(--sklearn-color-unfitted-level-2);\n",
       "}\n",
       "\n",
       "#sk-container-id-1 div.sk-estimator.fitted:hover {\n",
       "  /* fitted */\n",
       "  background-color: var(--sklearn-color-fitted-level-2);\n",
       "}\n",
       "\n",
       "/* Specification for estimator info (e.g. \"i\" and \"?\") */\n",
       "\n",
       "/* Common style for \"i\" and \"?\" */\n",
       "\n",
       ".sk-estimator-doc-link,\n",
       "a:link.sk-estimator-doc-link,\n",
       "a:visited.sk-estimator-doc-link {\n",
       "  float: right;\n",
       "  font-size: smaller;\n",
       "  line-height: 1em;\n",
       "  font-family: monospace;\n",
       "  background-color: var(--sklearn-color-background);\n",
       "  border-radius: 1em;\n",
       "  height: 1em;\n",
       "  width: 1em;\n",
       "  text-decoration: none !important;\n",
       "  margin-left: 1ex;\n",
       "  /* unfitted */\n",
       "  border: var(--sklearn-color-unfitted-level-1) 1pt solid;\n",
       "  color: var(--sklearn-color-unfitted-level-1);\n",
       "}\n",
       "\n",
       ".sk-estimator-doc-link.fitted,\n",
       "a:link.sk-estimator-doc-link.fitted,\n",
       "a:visited.sk-estimator-doc-link.fitted {\n",
       "  /* fitted */\n",
       "  border: var(--sklearn-color-fitted-level-1) 1pt solid;\n",
       "  color: var(--sklearn-color-fitted-level-1);\n",
       "}\n",
       "\n",
       "/* On hover */\n",
       "div.sk-estimator:hover .sk-estimator-doc-link:hover,\n",
       ".sk-estimator-doc-link:hover,\n",
       "div.sk-label-container:hover .sk-estimator-doc-link:hover,\n",
       ".sk-estimator-doc-link:hover {\n",
       "  /* unfitted */\n",
       "  background-color: var(--sklearn-color-unfitted-level-3);\n",
       "  color: var(--sklearn-color-background);\n",
       "  text-decoration: none;\n",
       "}\n",
       "\n",
       "div.sk-estimator.fitted:hover .sk-estimator-doc-link.fitted:hover,\n",
       ".sk-estimator-doc-link.fitted:hover,\n",
       "div.sk-label-container:hover .sk-estimator-doc-link.fitted:hover,\n",
       ".sk-estimator-doc-link.fitted:hover {\n",
       "  /* fitted */\n",
       "  background-color: var(--sklearn-color-fitted-level-3);\n",
       "  color: var(--sklearn-color-background);\n",
       "  text-decoration: none;\n",
       "}\n",
       "\n",
       "/* Span, style for the box shown on hovering the info icon */\n",
       ".sk-estimator-doc-link span {\n",
       "  display: none;\n",
       "  z-index: 9999;\n",
       "  position: relative;\n",
       "  font-weight: normal;\n",
       "  right: .2ex;\n",
       "  padding: .5ex;\n",
       "  margin: .5ex;\n",
       "  width: min-content;\n",
       "  min-width: 20ex;\n",
       "  max-width: 50ex;\n",
       "  color: var(--sklearn-color-text);\n",
       "  box-shadow: 2pt 2pt 4pt #999;\n",
       "  /* unfitted */\n",
       "  background: var(--sklearn-color-unfitted-level-0);\n",
       "  border: .5pt solid var(--sklearn-color-unfitted-level-3);\n",
       "}\n",
       "\n",
       ".sk-estimator-doc-link.fitted span {\n",
       "  /* fitted */\n",
       "  background: var(--sklearn-color-fitted-level-0);\n",
       "  border: var(--sklearn-color-fitted-level-3);\n",
       "}\n",
       "\n",
       ".sk-estimator-doc-link:hover span {\n",
       "  display: block;\n",
       "}\n",
       "\n",
       "/* \"?\"-specific style due to the `<a>` HTML tag */\n",
       "\n",
       "#sk-container-id-1 a.estimator_doc_link {\n",
       "  float: right;\n",
       "  font-size: 1rem;\n",
       "  line-height: 1em;\n",
       "  font-family: monospace;\n",
       "  background-color: var(--sklearn-color-background);\n",
       "  border-radius: 1rem;\n",
       "  height: 1rem;\n",
       "  width: 1rem;\n",
       "  text-decoration: none;\n",
       "  /* unfitted */\n",
       "  color: var(--sklearn-color-unfitted-level-1);\n",
       "  border: var(--sklearn-color-unfitted-level-1) 1pt solid;\n",
       "}\n",
       "\n",
       "#sk-container-id-1 a.estimator_doc_link.fitted {\n",
       "  /* fitted */\n",
       "  border: var(--sklearn-color-fitted-level-1) 1pt solid;\n",
       "  color: var(--sklearn-color-fitted-level-1);\n",
       "}\n",
       "\n",
       "/* On hover */\n",
       "#sk-container-id-1 a.estimator_doc_link:hover {\n",
       "  /* unfitted */\n",
       "  background-color: var(--sklearn-color-unfitted-level-3);\n",
       "  color: var(--sklearn-color-background);\n",
       "  text-decoration: none;\n",
       "}\n",
       "\n",
       "#sk-container-id-1 a.estimator_doc_link.fitted:hover {\n",
       "  /* fitted */\n",
       "  background-color: var(--sklearn-color-fitted-level-3);\n",
       "}\n",
       "</style><div id=\"sk-container-id-1\" class=\"sk-top-container\"><div class=\"sk-text-repr-fallback\"><pre>LinearRegression()</pre><b>In a Jupyter environment, please rerun this cell to show the HTML representation or trust the notebook. <br />On GitHub, the HTML representation is unable to render, please try loading this page with nbviewer.org.</b></div><div class=\"sk-container\" hidden><div class=\"sk-item\"><div class=\"sk-estimator fitted sk-toggleable\"><input class=\"sk-toggleable__control sk-hidden--visually\" id=\"sk-estimator-id-1\" type=\"checkbox\" checked><label for=\"sk-estimator-id-1\" class=\"sk-toggleable__label fitted sk-toggleable__label-arrow fitted\">&nbsp;&nbsp;LinearRegression<a class=\"sk-estimator-doc-link fitted\" rel=\"noreferrer\" target=\"_blank\" href=\"https://scikit-learn.org/1.5/modules/generated/sklearn.linear_model.LinearRegression.html\">?<span>Documentation for LinearRegression</span></a><span class=\"sk-estimator-doc-link fitted\">i<span>Fitted</span></span></label><div class=\"sk-toggleable__content fitted\"><pre>LinearRegression()</pre></div> </div></div></div></div>"
      ],
      "text/plain": [
       "LinearRegression()"
      ]
     },
     "execution_count": 10,
     "metadata": {},
     "output_type": "execute_result"
    }
   ],
   "source": [
    "from sklearn.linear_model import LinearRegression\n",
    "lr = LinearRegression()\n",
    "lr.fit(train_poly, train_target)"
   ]
  },
  {
   "cell_type": "code",
   "execution_count": 11,
   "id": "59baebf0-4dd7-403f-8d8f-d6461a9acf44",
   "metadata": {},
   "outputs": [
    {
     "data": {
      "text/plain": [
       "0.9903183436982125"
      ]
     },
     "execution_count": 11,
     "metadata": {},
     "output_type": "execute_result"
    }
   ],
   "source": [
    "lr.score(train_poly, train_target)"
   ]
  },
  {
   "cell_type": "code",
   "execution_count": 12,
   "id": "35631a6b-f075-474d-86d8-31df5cf24665",
   "metadata": {},
   "outputs": [
    {
     "data": {
      "text/plain": [
       "0.971455991159412"
      ]
     },
     "execution_count": 12,
     "metadata": {},
     "output_type": "execute_result"
    }
   ],
   "source": [
    "lr.score(test_poly, test_target)"
   ]
  },
  {
   "cell_type": "code",
   "execution_count": 13,
   "id": "6b9e52cc-fa7d-49ee-9c33-3c55d662bb4a",
   "metadata": {},
   "outputs": [],
   "source": [
    "# 무조건 특성(파라미터)의 차원을 올려버릴 경우\n",
    "poly = PolynomialFeatures(degree=5, include_bias=False)\n",
    "train_5_poly = poly.fit_transform(train_input)\n",
    "test_5_poly = poly.transform(test_input)"
   ]
  },
  {
   "cell_type": "code",
   "execution_count": 14,
   "id": "7a609cb3-6994-44a1-9d90-3650ae13c92f",
   "metadata": {},
   "outputs": [
    {
     "data": {
      "text/plain": [
       "0.9999999999996176"
      ]
     },
     "execution_count": 14,
     "metadata": {},
     "output_type": "execute_result"
    }
   ],
   "source": [
    "# 훈련 데이터에 대해서는 거의 완벽하게 나옴\n",
    "lr.fit(train_5_poly, train_target)\n",
    "lr.score(train_5_poly, train_target)"
   ]
  },
  {
   "cell_type": "code",
   "execution_count": 15,
   "id": "30d9a27d-f970-419b-bc8f-a5baa9d9a05b",
   "metadata": {},
   "outputs": [
    {
     "data": {
      "text/plain": [
       "-144.40585108215134"
      ]
     },
     "execution_count": 15,
     "metadata": {},
     "output_type": "execute_result"
    }
   ],
   "source": [
    "# 테스트 데이터에서 말도 안되는 점수(Super Overfitting)\n",
    "lr.score(test_5_poly, test_target)"
   ]
  },
  {
   "cell_type": "code",
   "execution_count": 16,
   "id": "df796f51",
   "metadata": {},
   "outputs": [],
   "source": [
    "# 표준화 => 규제(과적합)"
   ]
  },
  {
   "cell_type": "code",
   "execution_count": 17,
   "id": "84ccbd92",
   "metadata": {},
   "outputs": [],
   "source": [
    "from sklearn.preprocessing import StandardScaler\n",
    "ss = StandardScaler()\n",
    "ss.fit(train_5_poly)\n",
    "# 단순 수치 => 평균(0)에서 얼마나 떨어져 있는가.\n",
    "train_scaled = ss.transform(train_5_poly)\n",
    "test_scaled = ss.transform(test_5_poly)\n"
   ]
  },
  {
   "cell_type": "code",
   "execution_count": 18,
   "id": "db3a5e94",
   "metadata": {},
   "outputs": [
    {
     "data": {
      "text/plain": [
       "0.9896101671037343"
      ]
     },
     "execution_count": 18,
     "metadata": {},
     "output_type": "execute_result"
    }
   ],
   "source": [
    "# LinearRegression => 기본적인 선형 회귀 예측기\n",
    "# Ridge/Lasso => 선형회귀에 제약을 둬서, 모델의 과적합을 피하고 성능 좋은 모델로 간다.\n",
    "from sklearn.linear_model import Ridge\n",
    "# alpha(규제)값은 1이 기본값 => 하이퍼파라미터(학습전에 인간이 결정해야하는 값)\n",
    "ridge = Ridge(alpha=1)\n",
    "ridge.fit(train_scaled, train_target)\n",
    "\n",
    "ridge.score(train_scaled, train_target)"
   ]
  },
  {
   "cell_type": "code",
   "execution_count": 19,
   "id": "1d5b4e39",
   "metadata": {},
   "outputs": [
    {
     "data": {
      "text/plain": [
       "[<matplotlib.lines.Line2D at 0x1ef48315670>]"
      ]
     },
     "execution_count": 19,
     "metadata": {},
     "output_type": "execute_result"
    },
    {
     "data": {
      "image/png": "[encoded data removed]",
      "text/plain": [
       "<Figure size 640x480 with 1 Axes>"
      ]
     },
     "metadata": {},
     "output_type": "display_data"
    }
   ],
   "source": [
    "# alpha(규제값) 조정을 통해 점수 비교 그래프 그리기\n",
    "import matplotlib.pyplot as plt\n",
    "train_scores = []\n",
    "test_scores = []\n",
    "\n",
    "alphas = [0.001, 0.005, 0.01, 0.05, 0.1, 0.5, 1, 5, 10, 50, 100]\n",
    "for alpha in alphas:\n",
    "    ridge = Ridge(alpha=alpha)\n",
    "    ridge.fit(train_scaled, train_target)\n",
    "    score1 = ridge.score(train_scaled, train_target)\n",
    "    score2 = ridge.score(test_scaled, test_target)\n",
    "    train_scores.append(score1)\n",
    "    test_scores.append(score2)\n",
    "\n",
    "plt.plot(np.log10(alphas), train_scores)\n",
    "plt.plot(np.log10(alphas), test_scores)"
   ]
  },
  {
   "cell_type": "code",
   "execution_count": 20,
   "id": "783d8d57",
   "metadata": {},
   "outputs": [
    {
     "data": {
      "text/plain": [
       "0.989789897208096"
      ]
     },
     "execution_count": 20,
     "metadata": {},
     "output_type": "execute_result"
    }
   ],
   "source": [
    "from sklearn.linear_model import Lasso\n",
    "lasso = Lasso()\n",
    "lasso.fit(train_scaled, train_target)\n",
    "lasso.score(train_scaled, train_target)"
   ]
  },
  {
   "cell_type": "code",
   "execution_count": 21,
   "id": "6648e8c6",
   "metadata": {},
   "outputs": [
    {
     "data": {
      "text/plain": [
       "0.9800593698421884"
      ]
     },
     "execution_count": 21,
     "metadata": {},
     "output_type": "execute_result"
    }
   ],
   "source": [
    "lasso.score(test_scaled, test_target)"
   ]
  },
  {
   "cell_type": "code",
   "execution_count": 22,
   "id": "49d6235d",
   "metadata": {},
   "outputs": [
    {
     "name": "stderr",
     "output_type": "stream",
     "text": [
      "c:\\Users\\1-00\\AppData\\Local\\Programs\\Python\\Python312\\Lib\\site-packages\\sklearn\\linear_model\\_coordinate_descent.py:697: ConvergenceWarning: Objective did not converge. You might want to increase the number of iterations, check the scale of the features or consider increasing regularisation. Duality gap: 1.393e+04, tolerance: 5.183e+02\n",
      "  model = cd_fast.enet_coordinate_descent(\n",
      "c:\\Users\\1-00\\AppData\\Local\\Programs\\Python\\Python312\\Lib\\site-packages\\sklearn\\linear_model\\_coordinate_descent.py:697: ConvergenceWarning: Objective did not converge. You might want to increase the number of iterations, check the scale of the features or consider increasing regularisation. Duality gap: 4.305e+03, tolerance: 5.183e+02\n",
      "  model = cd_fast.enet_coordinate_descent(\n",
      "c:\\Users\\1-00\\AppData\\Local\\Programs\\Python\\Python312\\Lib\\site-packages\\sklearn\\linear_model\\_coordinate_descent.py:697: ConvergenceWarning: Objective did not converge. You might want to increase the number of iterations, check the scale of the features or consider increasing regularisation. Duality gap: 1.440e+03, tolerance: 5.183e+02\n",
      "  model = cd_fast.enet_coordinate_descent(\n"
     ]
    },
    {
     "data": {
      "text/plain": [
       "[<matplotlib.lines.Line2D at 0x1ef4839b590>]"
      ]
     },
     "execution_count": 22,
     "metadata": {},
     "output_type": "execute_result"
    },
    {
     "data": {
      "image/png": "[encoded data removed]",
      "text/plain": [
       "<Figure size 640x480 with 1 Axes>"
      ]
     },
     "metadata": {},
     "output_type": "display_data"
    }
   ],
   "source": [
    "# alpha(규제값) 조정을 통해 점수 비교 그래프 그리기\n",
    "train_scores = []\n",
    "test_scores = []\n",
    "\n",
    "alphas = [0.001, 0.005, 0.01, 0.05, 0.1, 0.5, 1, 5, 10, 50, 100]\n",
    "for alpha in alphas:\n",
    "    lasso = Lasso(alpha=alpha, max_iter=100000)\n",
    "    lasso.fit(train_scaled, train_target)\n",
    "    score1 = lasso.score(train_scaled, train_target)\n",
    "    score2 = lasso.score(test_scaled, test_target)\n",
    "    train_scores.append(score1)\n",
    "    test_scores.append(score2)\n",
    "\n",
    "plt.plot(np.log10(alphas), train_scores)\n",
    "plt.plot(np.log10(alphas), test_scores)"
   ]
  },
  {
   "cell_type": "code",
   "execution_count": 23,
   "id": "5e594388",
   "metadata": {},
   "outputs": [
    {
     "name": "stdout",
     "output_type": "stream",
     "text": [
      "basic linear [-2.09045233e+04 -1.28202656e+03 -5.60579423e+03  2.08209788e+03\n",
      "  1.22295888e+03 -1.43810563e+03 -4.56954920e+03 -5.32865704e+02\n",
      "  6.00791515e+03 -2.10685927e+01 -6.86635705e+01 -1.38721485e+03\n",
      " -1.07567682e+03  3.95368632e+03  5.36644083e+03  3.82397703e+03\n",
      " -5.41583153e+03 -7.44652620e+03 -3.57623029e+03 -8.28182210e+00\n",
      "  3.60948613e+02 -4.02974094e+02 -3.16265249e+03  3.78222941e+03\n",
      "  1.35359024e+03  9.49700050e+03 -9.03133743e+03 -7.05278766e+03\n",
      " -5.77027227e+03 -9.30122999e+03  5.09472356e+03  9.77749519e+03\n",
      "  9.37624396e+03  7.91885386e+03 -2.17001643e+00  3.18812796e+01\n",
      "  1.05746226e+01  1.25146689e+02 -1.16343653e+03  8.34278217e+02\n",
      " -1.83477727e+03  7.09704419e+03 -1.74949662e+03 -3.82035555e+03\n",
      "  5.50890278e+03 -1.57854132e+04 -1.46746249e+03  8.08796344e+03\n",
      "  8.01723336e+03 -5.22511893e+03  1.18583191e+04  6.17625273e+03\n",
      " -7.04152052e+03 -6.28439963e+03 -7.60668928e+03]\n",
      "ridge [8.05565374 7.88725565 7.40784577 7.47123014 7.4410635  7.13971183\n",
      " 7.35784804 7.06234228 6.73795844 6.84005957 6.87336148 6.6183857\n",
      " 6.8710696  6.61574515 6.3563402  6.83406174 6.5770234  6.31624676\n",
      " 6.05577759 6.21635484 6.29581869 6.04864176 6.34766386 6.10026015\n",
      " 5.85963972 6.36997656 6.12185119 5.87989872 5.64753069 6.36135147\n",
      " 6.11192849 5.86802883 5.63295963 5.40863597 5.62391151 5.73948896\n",
      " 5.4841318  5.83255851 5.57749011 5.33543563 5.90030552 5.64566636\n",
      " 5.40327284 5.17665316 5.94034278 5.68605937 5.44318285 5.21516697\n",
      " 5.00401328 5.95086271 5.69667594 5.45304758 5.22331242 5.00940259\n",
      " 4.81193523]\n",
      "lasso [  0.           0.           0.           0.           1.19398959\n",
      "   0.           0.           0.           0.           0.\n",
      "   0.           0.          80.03201415 168.24077938   0.\n",
      "   0.           0.           0.           0.           0.\n",
      "   0.           0.           0.           0.           0.\n",
      "   0.           0.           0.           0.           0.\n",
      "   0.           0.           0.           0.           0.\n",
      "   0.           0.           0.           0.           0.\n",
      "   0.           0.           0.           0.           0.\n",
      "   0.           0.           0.           0.           0.\n",
      "   0.           0.           0.           0.           0.        ]\n"
     ]
    }
   ],
   "source": [
    "# 각 특성별 가중치(기울기)\n",
    "# ridge/lasso 는 scaling(표준화) 진행\n",
    "print('basic linear', lr.coef_)\n",
    "print('ridge', ridge.coef_)\n",
    "print('lasso', lasso.coef_)"
   ]
  }
 ],
 "metadata": {
  "kernelspec": {
   "display_name": "Python 3 (ipykernel)",
   "language": "python",
   "name": "python3"
  },
  "language_info": {
   "codemirror_mode": {
    "name": "ipython",
    "version": 3
   },
   "file_extension": ".py",
   "mimetype": "text/x-python",
   "name": "python",
   "nbconvert_exporter": "python",
   "pygments_lexer": "ipython3",
   "version": "3.12.4"
  }
 },
 "nbformat": 4,
 "nbformat_minor": 5
}
