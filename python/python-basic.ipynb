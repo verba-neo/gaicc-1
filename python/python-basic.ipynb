{
 "cells": [
  {
   "cell_type": "markdown",
   "id": "b6aaa060-2381-45de-89a3-6637ad57e931",
   "metadata": {},
   "source": [
    "# Python 기초\n",
    "\n",
    "파이썬 기초에 대하여 알아보자"
   ]
  },
  {
   "cell_type": "markdown",
   "id": "f27c165c-479a-47e5-a6b9-784eb35fc9b8",
   "metadata": {},
   "source": [
    "## 변수 (Variable)"
   ]
  },
  {
   "cell_type": "code",
   "execution_count": null,
   "id": "256dd6ad-f4c9-4508-b1a7-d7dbf1b01b78",
   "metadata": {},
   "outputs": [],
   "source": [
    "numbers = [10, 20, 30, 40, 50]\n",
    "numbers"
   ]
  },
  {
   "cell_type": "code",
   "execution_count": null,
   "id": "4d36f368-cef3-4552-8c7e-a9eb5d9e05ce",
   "metadata": {},
   "outputs": [],
   "source": [
    "numbers[0]"
   ]
  },
  {
   "cell_type": "code",
   "execution_count": null,
   "id": "97f082ca-0bd6-441b-b566-67ba6e00bb26",
   "metadata": {},
   "outputs": [],
   "source": [
    "numbers[3]"
   ]
  },
  {
   "cell_type": "code",
   "execution_count": null,
   "id": "477455d6-de51-4374-8d86-bcea79e3e93c",
   "metadata": {},
   "outputs": [],
   "source": [
    "numbers[-1]"
   ]
  },
  {
   "cell_type": "code",
   "execution_count": null,
   "id": "474fe172-b0e0-4010-8266-7a70bb50cfe6",
   "metadata": {},
   "outputs": [],
   "source": [
    "numbers[-3]"
   ]
  },
  {
   "cell_type": "code",
   "execution_count": null,
   "id": "e771ba9e-0a31-4a48-9ea5-cdfdb011ee2f",
   "metadata": {},
   "outputs": [],
   "source": [
    "numbers[0] + numbers[2]"
   ]
  },
  {
   "cell_type": "code",
   "execution_count": null,
   "id": "7e082f45-ac93-4475-a6c0-38be9679bd09",
   "metadata": {},
   "outputs": [],
   "source": [
    "numbers[0:3]"
   ]
  },
  {
   "cell_type": "code",
   "execution_count": null,
   "id": "10d65d2a-260b-4775-98ad-7b03849b1c78",
   "metadata": {},
   "outputs": [],
   "source": [
    "numbers[0:2]"
   ]
  },
  {
   "cell_type": "code",
   "execution_count": null,
   "id": "a66a6491-5f24-408c-9419-67b55633c098",
   "metadata": {},
   "outputs": [],
   "source": [
    "numbers"
   ]
  },
  {
   "cell_type": "code",
   "execution_count": null,
   "id": "d86c3d7f-6a92-4ec3-be74-8356bfff8604",
   "metadata": {},
   "outputs": [],
   "source": [
    "# numbers 의 20 을 200으로 바꿔보자!\n",
    "numbers[1] = 200\n",
    "numbers"
   ]
  },
  {
   "cell_type": "code",
   "execution_count": null,
   "id": "4436aed8-cd92-432a-995b-0bf806db805e",
   "metadata": {},
   "outputs": [],
   "source": [
    "numbers.append(60)"
   ]
  },
  {
   "cell_type": "code",
   "execution_count": null,
   "id": "7f97ddec-d4ce-4578-85ce-16c5f0bd574e",
   "metadata": {},
   "outputs": [],
   "source": [
    "numbers"
   ]
  },
  {
   "cell_type": "code",
   "execution_count": null,
   "id": "7465409f-deaf-4756-9b60-92a25b854649",
   "metadata": {},
   "outputs": [],
   "source": [
    "range(10)"
   ]
  },
  {
   "cell_type": "code",
   "execution_count": null,
   "id": "e2e6c696-4336-4ce9-acdf-3ab65befb97c",
   "metadata": {},
   "outputs": [],
   "source": [
    "list(range(0, 10, 3))"
   ]
  },
  {
   "cell_type": "code",
   "execution_count": null,
   "id": "902f9c19-53b7-4b80-9c79-6582275fe0a0",
   "metadata": {},
   "outputs": [],
   "source": [
    "3 + 5\n",
    "7 * 3\n",
    "5 - 9\n",
    "9 / 4\n",
    "8 ** 6\n",
    "9 // 4  # 2\n",
    "9 % 4  # 1"
   ]
  },
  {
   "cell_type": "code",
   "execution_count": null,
   "id": "7d8495f2-69b1-4ea8-ad27-22ba1f0d60e6",
   "metadata": {},
   "outputs": [],
   "source": [
    "x = 1\n",
    "x += 1\n",
    "x"
   ]
  },
  {
   "cell_type": "code",
   "execution_count": null,
   "id": "9437b838-f8e5-4c43-9526-59a836e2f803",
   "metadata": {},
   "outputs": [],
   "source": [
    "5 > 3\n",
    "4 <= 4\n",
    "3 == 2\n",
    "2 != 1"
   ]
  },
  {
   "cell_type": "code",
   "execution_count": null,
   "id": "17c2dd14-5f26-4719-b373-5ff2cfee3530",
   "metadata": {},
   "outputs": [],
   "source": [
    "3 + 2"
   ]
  },
  {
   "cell_type": "code",
   "execution_count": null,
   "id": "2decd9d9-8830-4850-848f-e12c2bfcf3f8",
   "metadata": {},
   "outputs": [],
   "source": [
    "2 in [1, 2, 3]"
   ]
  },
  {
   "cell_type": "code",
   "execution_count": null,
   "id": "d96ef87b-774f-4b0b-83c6-a90346565959",
   "metadata": {},
   "outputs": [],
   "source": [
    "age = int(input('나이를 입력하세요'))"
   ]
  },
  {
   "cell_type": "code",
   "execution_count": null,
   "id": "57ff4f56-b910-4e7e-88ce-7458ced3c9dc",
   "metadata": {},
   "outputs": [],
   "source": [
    "# 나이가 미성년자(20미만) 이면, \n",
    "if age < 20:\n",
    "    # '주류 판매 금지!' 출력\n",
    "    print('주류 판매 금지')\n",
    "# 20 살이면,\n",
    "elif age == 20:\n",
    "    # '민증 검사' 출력\n",
    "    print('민증 검사')\n",
    "# 20초과면,\n",
    "elif age > 20:\n",
    "    # '구매 가능' 출력\n",
    "    print('구매 가능')"
   ]
  },
  {
   "cell_type": "code",
   "execution_count": null,
   "id": "cdd6a89e-736e-4282-b69d-7fee0a2dac3c",
   "metadata": {},
   "outputs": [],
   "source": [
    "elems = [1, 'a', True, 1.3, '가', False, 100]\n",
    "len(elems)"
   ]
  },
  {
   "cell_type": "code",
   "execution_count": null,
   "id": "0d96544b-d876-4c80-b845-a17af889a7be",
   "metadata": {},
   "outputs": [],
   "source": [
    "# 각 요소들을 접근하려면?\n",
    "# idx : 0 ~ (len(elems)- 1)"
   ]
  },
  {
   "cell_type": "code",
   "execution_count": null,
   "id": "2d70e14c-be88-447d-abcf-2baf654a828e",
   "metadata": {},
   "outputs": [],
   "source": [
    "# elems 리스트의 모든 idx를 담고 있다.\n",
    "range(len(elems))"
   ]
  },
  {
   "cell_type": "code",
   "execution_count": null,
   "id": "716ba7f9-9d24-484e-bb49-d87926795127",
   "metadata": {},
   "outputs": [],
   "source": [
    "# elems 리스트의 모든 요소를 출력\n",
    "idx = 0\n",
    "while idx < len(elems):\n",
    "    print(elems[idx])\n",
    "    idx += 1"
   ]
  },
  {
   "cell_type": "code",
   "execution_count": null,
   "id": "e658b259-2076-405b-aa4e-3f7e18635551",
   "metadata": {},
   "outputs": [],
   "source": [
    "for elem in elems:\n",
    "    print(elem)"
   ]
  },
  {
   "cell_type": "code",
   "execution_count": null,
   "id": "1e73714e-09c9-447a-9550-794b6ebf9ca3",
   "metadata": {},
   "outputs": [],
   "source": [
    "users = ['김김김', '박박박', '이이이']\n",
    "for user in users:\n",
    "    print(user)"
   ]
  }
 ],
 "metadata": {
  "kernelspec": {
   "display_name": "Python 3 (ipykernel)",
   "language": "python",
   "name": "python3"
  },
  "language_info": {
   "codemirror_mode": {
    "name": "ipython",
    "version": 3
   },
   "file_extension": ".py",
   "mimetype": "text/x-python",
   "name": "python",
   "nbconvert_exporter": "python",
   "pygments_lexer": "ipython3",
   "version": "3.12.4"
  }
 },
 "nbformat": 4,
 "nbformat_minor": 5
}
