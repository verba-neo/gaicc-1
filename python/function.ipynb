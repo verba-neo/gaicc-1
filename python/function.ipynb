{
 "cells": [
  {
   "cell_type": "markdown",
   "metadata": {},
   "source": [
    "함수(function)\n",
    "\n",
    "- 함수의 정의\n",
    "- 함수의 Output\n",
    "- 함수의 Input"
   ]
  },
  {
   "cell_type": "markdown",
   "metadata": {},
   "source": [
    "<center>\n",
    "    <img src=\"https://user-images.githubusercontent.com/18046097/61181746-2a1d9400-a665-11e9-804e-e92940d4fc82.png\", alt=\"func.png\">\n",
    "</center>"
   ]
  },
  {
   "cell_type": "markdown",
   "metadata": {},
   "source": [
    "# 들어가기전에 \n",
    "다음의 코드를 봅시다. 무엇을 하는 코드일까요?"
   ]
  },
  {
   "cell_type": "code",
   "execution_count": 1,
   "metadata": {},
   "outputs": [
    {
     "name": "stdout",
     "output_type": "stream",
     "text": [
      "14.499760534421096\n"
     ]
    }
   ],
   "source": [
    "values = [100, 75, 85, 90, 65, 95, 90, 60, 85, 50, 90, 80]\n",
    "total = 0\n",
    "cnt = 0\n",
    "\n",
    "for value in values:\n",
    "    total += value\n",
    "    cnt += 1\n",
    "mean = total / cnt\n",
    "\n",
    "total_var = 0\n",
    "for value in values:\n",
    "    total_var += (value - mean) ** 2\n",
    "sum_var = total_var / cnt\n",
    "\n",
    "target = sum_var\n",
    "count = 0 \n",
    "while True : \n",
    "    count += 1 \n",
    "    root = 0.5 * (target + (sum_var / target))  \n",
    "    if (abs(root - target) < 0.0000000000000001): \n",
    "        break \n",
    "    target = root\n",
    "\n",
    "std_dev = target\n",
    "print(std_dev)"
   ]
  },
  {
   "cell_type": "markdown",
   "metadata": {},
   "source": [
    "이해하기 쉬운가요? 그리고 만약 다른 곳에서 동일한 작업을 다시해야할 경우 어떻게 해야 할까요?"
   ]
  },
  {
   "cell_type": "code",
   "execution_count": null,
   "metadata": {},
   "outputs": [],
   "source": [
    "import math\n",
    "values = [100, 75, 85, 90, 65, 95, 90, 60, 85, 50, 90, 80]\n",
    "cnt = len(values)\n",
    "mean = sum(values) / cnt\n",
    "sum_var = sum(pow(value - mean, 2) for value in values) / cnt\n",
    "std_dev = math.sqrt(sum_var)\n",
    "print(std_dev)"
   ]
  },
  {
   "cell_type": "markdown",
   "metadata": {},
   "source": [
    "한줄로도 가능할까요?"
   ]
  },
  {
   "cell_type": "code",
   "execution_count": null,
   "metadata": {},
   "outputs": [],
   "source": [
    "import statistics\n",
    "values = [100, 75, 85, 90, 65, 95, 90, 60, 85, 50, 90, 80]\n",
    "statistics.pstdev(values)"
   ]
  },
  {
   "cell_type": "markdown",
   "metadata": {},
   "source": [
    "# 함수(function)\n",
    "\n",
    "> 특정한 기능(function)을 하는 코드의 묶음\n",
    "\n",
    "## 함수를 쓰는 이유\n",
    "\n",
    "- 가독성\n",
    "- 재사용성\n",
    "- 유지보수"
   ]
  },
  {
   "cell_type": "markdown",
   "metadata": {},
   "source": [
    "<center>\n",
    "    <img src=\"https://user-images.githubusercontent.com/18046097/61181741-2984fd80-a665-11e9-93b8-578c56689d0e.png\", alt=\"programming principle\">\n",
    "</center>"
   ]
  },
  {
   "cell_type": "markdown",
   "metadata": {},
   "source": [
    "## 함수의 선언과 호출\n",
    "\n",
    "* 함수의 선언은 `def` 키워드를 활용합니다.\n",
    "\n",
    "\n",
    "* `들여쓰기(4spaces)`로 함수의 body(코드 블록)를 작성합니다.\n",
    "    * Docstring은 함수 body 앞에 선택적으로 작성 가능합니다.\n",
    "\n",
    "\n",
    "* 함수는 `매개변수(parameter)`를 넘겨줄 수도 있습니다.\n",
    "\n",
    "\n",
    "* 함수는 동작후에 `return`을 통해 결과값을 전달합니다.\n",
    "    * 반드시 하나의 객체를 반환합니다 (`return` 값이 없으면, `None`을 반환)\n",
    "\n",
    "\n",
    "* 함수는 호출은 `함수명()`으로 합니다. \n",
    "    * 예) `func()` / `func(val1, val2)`\n",
    "\n",
    "---\n",
    "\n",
    "#### 활용법\n",
    "\n",
    "```python\n",
    "def <함수이름>(parameter1, parameter2):\n",
    "    <코드 블럭>\n",
    "    return value\n",
    "```"
   ]
  },
  {
   "cell_type": "markdown",
   "metadata": {},
   "source": [
    "### [연습] 세제곱 함수 \n",
    "> 입력 받은 수를 세제곱하여 반환(return)하는 함수 `cube()`을 작성해보세요.\n",
    "\n",
    "---\n",
    "\n",
    "**[입력 예시]**\n",
    "\n",
    "```py\n",
    "cube(2)\n",
    "```\n",
    "\n",
    "**[출력 예시]**\n",
    "\n",
    "8"
   ]
  },
  {
   "cell_type": "markdown",
   "metadata": {},
   "source": [
    "위 문제를 참고하여 아래에 cube라는 이름의 함수를 작성하고 실행해봅시다.\n",
    "\n",
    "함수의 기본 선언을 연습하는 예제입니다\n",
    "- 거듭 제곱 연산자 : `**` (별표 2개)\n",
    "- ex) 10의 2승 => `10 ** 2`\n",
    "\n",
    "```python\n",
    "def 함수이름(매개변수):\n",
    "     거듭 제곱 연산자를 활용하여 입력 받은 매개변수를 세제곱하여 변수에 할당하는 코드 작성합니다.\n",
    "     위에서 할당한 변수를 반환합니다.\n",
    "```"
   ]
  },
  {
   "cell_type": "code",
   "execution_count": 2,
   "metadata": {},
   "outputs": [],
   "source": [
    "# 선언 (input 관리)  => 선언시 input 값은 매개변수(parameter)\n",
    "def cube(num):\n",
    "    return num ** 3"
   ]
  },
  {
   "cell_type": "code",
   "execution_count": 3,
   "metadata": {},
   "outputs": [
    {
     "name": "stdout",
     "output_type": "stream",
     "text": [
      "8 1000000\n"
     ]
    }
   ],
   "source": [
    "# 해당 코드를 통해 올바른 결과가 나오는지 확인하세요.\n",
    "\n",
    "x = cube(2) \n",
    "y = cube(100)\n",
    "print(x, y)"
   ]
  },
  {
   "cell_type": "markdown",
   "metadata": {},
   "source": [
    "<center>\n",
    "    <img src=\"https://user-images.githubusercontent.com/18046097/61181742-2984fd80-a665-11e9-9d5c-c90e8c64953e.png\", alt=\"function descrpition\">\n",
    "</center>"
   ]
  },
  {
   "cell_type": "code",
   "execution_count": 6,
   "metadata": {},
   "outputs": [
    {
     "name": "stdout",
     "output_type": "stream",
     "text": [
      "hi\n"
     ]
    }
   ],
   "source": [
    "# 우리가 활용하는 print문도 파이썬에 지정된 함수입니다. \n",
    "# 아래에서 'hi'는 argument이고 출력을 하게 됩니다.\n",
    "print('hi')"
   ]
  },
  {
   "cell_type": "markdown",
   "metadata": {},
   "source": [
    "<center>\n",
    "    <img src=\"https://user-images.githubusercontent.com/18046097/61181739-2984fd80-a665-11e9-991b-f2f058397a69.png\", alt=\"built_in\">\n",
    "</center>\n",
    "\n",
    "[파이썬 문서](https://docs.python.org/ko/3/library/functions.html)"
   ]
  },
  {
   "cell_type": "code",
   "execution_count": 4,
   "metadata": {},
   "outputs": [
    {
     "data": {
      "text/plain": [
       "['ArithmeticError',\n",
       " 'AssertionError',\n",
       " 'AttributeError',\n",
       " 'BaseException',\n",
       " 'BaseExceptionGroup',\n",
       " 'BlockingIOError',\n",
       " 'BrokenPipeError',\n",
       " 'BufferError',\n",
       " 'BytesWarning',\n",
       " 'ChildProcessError',\n",
       " 'ConnectionAbortedError',\n",
       " 'ConnectionError',\n",
       " 'ConnectionRefusedError',\n",
       " 'ConnectionResetError',\n",
       " 'DeprecationWarning',\n",
       " 'EOFError',\n",
       " 'Ellipsis',\n",
       " 'EncodingWarning',\n",
       " 'EnvironmentError',\n",
       " 'Exception',\n",
       " 'ExceptionGroup',\n",
       " 'False',\n",
       " 'FileExistsError',\n",
       " 'FileNotFoundError',\n",
       " 'FloatingPointError',\n",
       " 'FutureWarning',\n",
       " 'GeneratorExit',\n",
       " 'IOError',\n",
       " 'ImportError',\n",
       " 'ImportWarning',\n",
       " 'IndentationError',\n",
       " 'IndexError',\n",
       " 'InterruptedError',\n",
       " 'IsADirectoryError',\n",
       " 'KeyError',\n",
       " 'KeyboardInterrupt',\n",
       " 'LookupError',\n",
       " 'MemoryError',\n",
       " 'ModuleNotFoundError',\n",
       " 'NameError',\n",
       " 'None',\n",
       " 'NotADirectoryError',\n",
       " 'NotImplemented',\n",
       " 'NotImplementedError',\n",
       " 'OSError',\n",
       " 'OverflowError',\n",
       " 'PendingDeprecationWarning',\n",
       " 'PermissionError',\n",
       " 'ProcessLookupError',\n",
       " 'RecursionError',\n",
       " 'ReferenceError',\n",
       " 'ResourceWarning',\n",
       " 'RuntimeError',\n",
       " 'RuntimeWarning',\n",
       " 'StopAsyncIteration',\n",
       " 'StopIteration',\n",
       " 'SyntaxError',\n",
       " 'SyntaxWarning',\n",
       " 'SystemError',\n",
       " 'SystemExit',\n",
       " 'TabError',\n",
       " 'TimeoutError',\n",
       " 'True',\n",
       " 'TypeError',\n",
       " 'UnboundLocalError',\n",
       " 'UnicodeDecodeError',\n",
       " 'UnicodeEncodeError',\n",
       " 'UnicodeError',\n",
       " 'UnicodeTranslateError',\n",
       " 'UnicodeWarning',\n",
       " 'UserWarning',\n",
       " 'ValueError',\n",
       " 'Warning',\n",
       " 'WindowsError',\n",
       " 'ZeroDivisionError',\n",
       " '__IPYTHON__',\n",
       " '__build_class__',\n",
       " '__debug__',\n",
       " '__doc__',\n",
       " '__import__',\n",
       " '__loader__',\n",
       " '__name__',\n",
       " '__package__',\n",
       " '__spec__',\n",
       " 'abs',\n",
       " 'aiter',\n",
       " 'all',\n",
       " 'anext',\n",
       " 'any',\n",
       " 'ascii',\n",
       " 'bin',\n",
       " 'bool',\n",
       " 'breakpoint',\n",
       " 'bytearray',\n",
       " 'bytes',\n",
       " 'callable',\n",
       " 'chr',\n",
       " 'classmethod',\n",
       " 'compile',\n",
       " 'complex',\n",
       " 'copyright',\n",
       " 'credits',\n",
       " 'delattr',\n",
       " 'dict',\n",
       " 'dir',\n",
       " 'display',\n",
       " 'divmod',\n",
       " 'enumerate',\n",
       " 'eval',\n",
       " 'exec',\n",
       " 'execfile',\n",
       " 'filter',\n",
       " 'float',\n",
       " 'format',\n",
       " 'frozenset',\n",
       " 'get_ipython',\n",
       " 'getattr',\n",
       " 'globals',\n",
       " 'hasattr',\n",
       " 'hash',\n",
       " 'help',\n",
       " 'hex',\n",
       " 'id',\n",
       " 'input',\n",
       " 'int',\n",
       " 'isinstance',\n",
       " 'issubclass',\n",
       " 'iter',\n",
       " 'len',\n",
       " 'license',\n",
       " 'list',\n",
       " 'locals',\n",
       " 'map',\n",
       " 'max',\n",
       " 'memoryview',\n",
       " 'min',\n",
       " 'next',\n",
       " 'object',\n",
       " 'oct',\n",
       " 'open',\n",
       " 'ord',\n",
       " 'pow',\n",
       " 'print',\n",
       " 'property',\n",
       " 'range',\n",
       " 'repr',\n",
       " 'reversed',\n",
       " 'round',\n",
       " 'runfile',\n",
       " 'set',\n",
       " 'setattr',\n",
       " 'slice',\n",
       " 'sorted',\n",
       " 'staticmethod',\n",
       " 'str',\n",
       " 'sum',\n",
       " 'super',\n",
       " 'tuple',\n",
       " 'type',\n",
       " 'vars',\n",
       " 'zip']"
      ]
     },
     "execution_count": 4,
     "metadata": {},
     "output_type": "execute_result"
    }
   ],
   "source": [
    "# 아래 작성된 함수를 실행하여 내장함수 목록을 직접 확인해봅시다.\n",
    "dir(__builtins__)"
   ]
  },
  {
   "cell_type": "code",
   "execution_count": 8,
   "metadata": {},
   "outputs": [],
   "source": [
    "# 제공된 링크로 이동해서 편하게 써왔던 random.sample() 함수의 내부도 직접 확인해봅시다."
   ]
  },
  {
   "cell_type": "markdown",
   "metadata": {},
   "source": [
    "https://github.com/python/cpython/blob/master/Lib/random.py#L385"
   ]
  },
  {
   "cell_type": "markdown",
   "metadata": {},
   "source": [
    "### [연습] 함수 만들기\n",
    "\n",
    "> 아래의 코드와 동일한 `my_max` 함수를 만들어주세요.\n",
    ">\n",
    "> 정수를 두개 받아서, 큰 값을 반환합니다. \n",
    "\n",
    "```python\n",
    "my_max(1, 5)\n",
    "```\n",
    "---\n",
    "```\n",
    "출력 예시)\n",
    "5\n",
    "```\n"
   ]
  },
  {
   "cell_type": "code",
   "execution_count": 9,
   "metadata": {},
   "outputs": [],
   "source": [
    "# 먼저 내장함수 max()를 확인해봅시다.\n",
    "# 내장함수 max에 숫자 1과 5를 전달인자로 작성하고 실행합니다."
   ]
  },
  {
   "cell_type": "markdown",
   "metadata": {},
   "source": [
    "내장함수와 비슷하게 동작하는 my_max 함수를 직접 작성해봅시다. \n",
    "\n",
    "(2개의 변수가 입력된다는 점에 주의합니다.)\n",
    "\n",
    "```python\n",
    "def 함수이름(숫자a, 숫자b):\n",
    "    if문을 활용하여 입력 받은 두 숫자 중 큰 수를 리턴합니다.\n",
    "```"
   ]
  },
  {
   "cell_type": "code",
   "execution_count": 14,
   "metadata": {},
   "outputs": [],
   "source": [
    "def my_max(num_a, num_b):\n",
    "    if num_a > num_b:\n",
    "        result = num_a\n",
    "    else:\n",
    "        result = num_b\n",
    "    return result\n"
   ]
  },
  {
   "cell_type": "code",
   "execution_count": 15,
   "metadata": {},
   "outputs": [
    {
     "name": "stdout",
     "output_type": "stream",
     "text": [
      "<function my_max at 0x0000021B506E4220>\n",
      "2\n"
     ]
    }
   ],
   "source": [
    "# 해당 코드를 통해 올바른 결과가 나오는지 확인하세요.\n",
    "print(my_max)\n",
    "print(my_max(1, 2))"
   ]
  },
  {
   "cell_type": "code",
   "execution_count": null,
   "metadata": {},
   "outputs": [],
   "source": []
  },
  {
   "cell_type": "markdown",
   "metadata": {},
   "source": [
    "### 함수의 선언과 호출 살펴보기"
   ]
  },
  {
   "cell_type": "code",
   "execution_count": 16,
   "metadata": {
    "tags": []
   },
   "outputs": [
    {
     "name": "stdout",
     "output_type": "stream",
     "text": [
      "9\n"
     ]
    }
   ],
   "source": [
    "# 아래의 코드의 결과는 무엇일까요? 실행하기 전에 예측해봅시다.\n",
    "\n",
    "num1 = 0\n",
    "num2 = 1\n",
    "\n",
    "def func1(a, b):\n",
    "    return a + b\n",
    "    \n",
    "def func2(a, b):\n",
    "    return a - b\n",
    "    \n",
    "def func3(a, b):\n",
    "    x = 1\n",
    "    return func1(a, 5) + func2(5, b)\n",
    "    \n",
    "result = func3(num1, num2)\n",
    "print(result)"
   ]
  },
  {
   "cell_type": "markdown",
   "metadata": {},
   "source": [
    "* [Python tutor](http://pythontutor.com/visualize.html#code=num1%20%3D%200%0Anum2%20%3D%201%0A%0Adef%20func1%28a,%20b%29%3A%0A%20%20%20%20return%20a%20%2B%20b%0A%20%20%20%20%0Adef%20func2%28a,%20b%29%3A%0A%20%20%20%20return%20a%20-%20b%0A%20%20%20%20%0Adef%20func3%28a,%20b%29%3A%0A%20%20%20%20return%20func1%28a,%205%29%20%2B%20func2%285,%20b%29%0A%20%20%20%20%0Aresult%20%3D%20func3%28num1,%20num2%29%0Aprint%28result%29&cumulative=false&curInstr=10&heapPrimitives=nevernest&mode=display&origin=opt-frontend.js&py=3&rawInputLstJSON=%5B%5D&textReferences=false)를 통해 실행 순서를 직접 확인하세요.\n",
    "\n",
    "* 함수는 호출되면 계산을 수행하고, 값을 반환하며 종료됩니다."
   ]
  },
  {
   "cell_type": "markdown",
   "metadata": {},
   "source": [
    "# 함수의 Output"
   ]
  },
  {
   "cell_type": "markdown",
   "metadata": {},
   "source": [
    "## 함수의 `return`\n",
    "\n",
    "앞서 설명한 것과 마찬가지로 함수는 반환되는 값이 있으며, 이는 어떠한 종류 값(~~의 객체~~)라도 상관없습니다. \n",
    " \n",
    "단, **오직 한 개의 객체**만 반환됩니다.\n",
    "\n",
    "함수가 return 되거나 종료되면, 함수를 호출한 곳으로 돌아갑니다."
   ]
  },
  {
   "cell_type": "markdown",
   "metadata": {},
   "source": [
    "### [실습] 사각형의 넓이를 구하는 함수\n",
    "> 너비와 높이를 입력 받아 사각형의 넓이와 둘레를 반환(return)하는 함수 `rectangle()`을 작성해보세요.\n",
    "\n",
    "---\n",
    "\n",
    "**[입력 예시]**\n",
    "\n",
    "```py\n",
    "rectangle(30, 20)\n",
    "```\n",
    "\n",
    "**[출력 예시]**\n",
    "\n",
    "(600, 100)"
   ]
  },
  {
   "cell_type": "markdown",
   "metadata": {},
   "source": [
    "rectangle 이라는 이름의 함수를 작성하고 호출해봅시다.\n",
    "\n",
    "(작성하려는 함수가 어떤 목적을 갖고 있는지 고민하면서 작성합니다.)\n",
    "\n",
    "- 이번 함수는 **넓이와 둘레** 2가지 값을 한번에 반환하는 함수입니다.\n",
    "- 넓이 : 너비 * 높이\n",
    "- 둘레 : 2 * (너비 + 높이)\n",
    "\n",
    "```python\n",
    "def 함수이름(너비, 높이):\n",
    "    넓이와 둘레를 구하고 저장하는 코드를 작성합니다.\n",
    "    저장된 넓이, 둘레를 함께 반환합니다.\n",
    "```"
   ]
  },
  {
   "cell_type": "code",
   "execution_count": 42,
   "metadata": {},
   "outputs": [],
   "source": [
    "def rectangle(width, height):\n",
    "    # 둘레\n",
    "    p = 2 * (width + height)\n",
    "    # 넓이\n",
    "    a = width * height\n",
    "    return [a, p]"
   ]
  },
  {
   "cell_type": "code",
   "execution_count": 43,
   "metadata": {},
   "outputs": [
    {
     "name": "stdout",
     "output_type": "stream",
     "text": [
      "[600, 100]\n",
      "[3500, 240]\n"
     ]
    }
   ],
   "source": [
    "# 해당 코드를 통해 올바른 결과가 나오는지 확인하세요.\n",
    "print(rectangle(30, 20))  # (600, 100) or [600, 100]\n",
    "print(rectangle(50, 70))  # (3500, 240) or [3500, 240]"
   ]
  },
  {
   "cell_type": "markdown",
   "metadata": {},
   "source": [
    "### [연습] 함수를 정의하고 값을 반환해봅시다.\n",
    " \n",
    "> 리스트 두개를 받아 각각 더한 결과를 비교하여 값이 큰 리스트를 반환하는 함수를 만들어주세요.\n",
    "\n",
    "```python\n",
    "my_list_max([10, 3], [5, 9])\n",
    "```\n",
    "---\n",
    "```\n",
    "예시 출력)\n",
    "[5, 9]\n",
    "```\n"
   ]
  },
  {
   "cell_type": "markdown",
   "metadata": {},
   "source": [
    "`my_list_max` 라는 이름의 함수를 작성하고 호출해봅시다.\n",
    "\n",
    "(입력되는 값이 **리스트**임에 주의합니다.)\n",
    "\n",
    "1. 입력되는 리스트a의 요소들의 합을 구하고,\n",
    "1. 입력되는 리스트b의 요소들의 합을 구하고,\n",
    "1. 계산한 두 값을 비교합니다.\n",
    "\n",
    "```python\n",
    "def 함수이름(리스트a, 리스트b):\n",
    "    if문을 활용하여 각 리스트 요소의 합을 비교하고 값이 큰 리스트를 반환하는 코드 작성\n",
    "```"
   ]
  },
  {
   "cell_type": "code",
   "execution_count": null,
   "metadata": {},
   "outputs": [],
   "source": [
    "\n",
    "    "
   ]
  },
  {
   "cell_type": "code",
   "execution_count": null,
   "metadata": {
    "scrolled": true
   },
   "outputs": [],
   "source": [
    "# 해당 코드를 통해 올바른 결과가 나오는지 확인하세요.\n",
    "my_list_max([10, 3, 1], [5, 9])"
   ]
  },
  {
   "cell_type": "markdown",
   "metadata": {},
   "source": [
    "# 함수의 입력(Input)"
   ]
  },
  {
   "cell_type": "markdown",
   "metadata": {},
   "source": [
    "## 매개변수(parameter) & 전달인자(argument)\n",
    "\n",
    "### 매개변수(parameter)\n",
    "\n",
    "```python\n",
    "def func(x):\n",
    "      return x + 2\n",
    "```\n",
    "\n",
    "* `x` 는 매개변수(parameter)입니다.\n",
    "* 입력을 받아 함수 내부에서 활용할 `변수`입니다.\n",
    "* **함수를 정의하는 부분에서 확인할 수 있습니다.**\n",
    "\n",
    "\n",
    "### 전달인자(argument)\n",
    "\n",
    "```python\n",
    "func(2)\n",
    "```\n",
    "\n",
    "* `2` 는 전달인자(argument)입니다.\n",
    "* 실제로 전달되는 `값`입니다.\n",
    "* **함수를 호출하는 부분에서 볼 수 있습니다.**\n",
    "    \n",
    "> 주로 혼용해서 사용하지만 엄밀하게 따지면 둘은 다르게 구분되어 사용됩니다. 개념적 구분보다 함수가 작동하는 원리를 이해하는게 더 중요합니다."
   ]
  },
  {
   "cell_type": "markdown",
   "metadata": {},
   "source": [
    "## 함수의 인자\n",
    "\n",
    "함수는 입력값(input)으로 `인자(argument)`를 넘겨줄 수 있습니다."
   ]
  },
  {
   "cell_type": "markdown",
   "metadata": {},
   "source": [
    "### 위치 인자 (Positional Arguments)\n",
    "\n",
    "기본적으로 인자는 위치에 따라 함수 내에 전달됩니다. "
   ]
  },
  {
   "cell_type": "markdown",
   "metadata": {},
   "source": [
    "### [연습] 원기둥의 부피\n",
    "\n",
    "> 원기둥의 반지름(r)과 높이(h)를 받아서 부피를 return하는 함수 `cylinder()`를 작성하세요.\n",
    ">\n",
    "> *원기둥 부피 = 3.14 * 반지름 * 반지름 * 높이*"
   ]
  },
  {
   "cell_type": "markdown",
   "metadata": {},
   "source": [
    "`cylinder` 라는 이름의 함수를 작성하고 호출해봅시다.\n",
    "\n",
    "(함수 선언의 반복 연습입니다.)\n",
    " \n",
    "- 원기둥 부피 : 원의 넓이 * 높이 \n",
    "- 3.14 * (반지름의 제곱) * 높이\n",
    "- 3.14 * 반지름 * 반지름 * 높이\n",
    "\n",
    "```python\n",
    "def 함수이름(반지름, 높이):\n",
    "    원기둥 부피를 계산하여 반환합니다.\n",
    "```"
   ]
  },
  {
   "cell_type": "code",
   "execution_count": 44,
   "metadata": {},
   "outputs": [],
   "source": [
    "def cylinder(r, h):\n",
    "    ans = 3.14  * r**2 * h\n",
    "    return ans"
   ]
  },
  {
   "cell_type": "code",
   "execution_count": 45,
   "metadata": {},
   "outputs": [
    {
     "name": "stdout",
     "output_type": "stream",
     "text": [
      "157.0\n",
      "62.800000000000004\n"
     ]
    }
   ],
   "source": [
    "# 해당 코드를 통해 올바른 결과가 나오는지 확인하세요.\n",
    "print(cylinder(5, 2))\n",
    "print(cylinder(2, 5))  # 순서를 바꾸면 다른 값이 나옵니다."
   ]
  },
  {
   "cell_type": "markdown",
   "metadata": {},
   "source": [
    "<center>\n",
    "    <img src=\"https://user-images.githubusercontent.com/18046097/61181743-2a1d9400-a665-11e9-8df2-e4856caf16e4.png\", alt=\"function example 02\">\n",
    "</center>"
   ]
  },
  {
   "cell_type": "markdown",
   "metadata": {},
   "source": [
    "### 기본 인자 값 (Default Argument Values)\n",
    "\n",
    "**함수를 정의할 때,** 기본값을 지정하여 함수를 호출할 때 인자의 값을 설정하지 않도록하여, 정의된 것 보다 더 적은 개수의 인자들로 호출 될 수 있습니다.\n",
    "\n",
    "---\n",
    "\n",
    "**활용법**\n",
    "```python\n",
    "def func(p1=v1):\n",
    "    return p1\n",
    "```"
   ]
  },
  {
   "cell_type": "markdown",
   "metadata": {},
   "source": [
    "### [연습] 기본 인자 값 활용\n",
    "\n",
    "> 이름을 받아서 다음과 같이 인사하는 함수 `greeting()`을 작성하세요. 이름이 길동이면, \"길동, 안녕?\" 이름이 없으면 \"익명, 안녕?\" 으로 출력하세요."
   ]
  },
  {
   "cell_type": "markdown",
   "metadata": {},
   "source": [
    "greeting 이라는 이름의 함수를 작성하고 호출해봅시다.\n",
    "\n",
    "(매개변수의 기본인자에 대한 연습입니다.)\n",
    "\n",
    "**입력된 값이 없을 때** 라는 상황과 **그 상황에서 사용할 값**이라는 점에 주의합니다.\n",
    "\n",
    "- 입력된 값이 길동 => '길동, 안녕?'\n",
    "- 값이 없는 경우 => '익명, 안녕?'\n",
    "\n",
    "```python\n",
    "def 함수이름(이름='입력이 없으면 사용할 값'):\n",
    "    매개변수를 활용하여 문장(문자열)을 완성하여 리턴합니다.\n",
    "```"
   ]
  },
  {
   "cell_type": "code",
   "execution_count": 48,
   "metadata": {},
   "outputs": [],
   "source": [
    "def greeting(name='익명'):\n",
    "    print(f'{name} 안녕!')"
   ]
  },
  {
   "cell_type": "code",
   "execution_count": 49,
   "metadata": {},
   "outputs": [
    {
     "name": "stdout",
     "output_type": "stream",
     "text": [
      "철수 안녕!\n",
      "None\n",
      "익명 안녕!\n",
      "None\n"
     ]
    }
   ],
   "source": [
    "# 해당 코드를 통해 올바른 결과가 나오는지 확인하세요.\n",
    "print(greeting('철수'))\n",
    "print(greeting())"
   ]
  },
  {
   "cell_type": "markdown",
   "metadata": {},
   "source": [
    "* 기본 인자 값이 설정되어 있더라도 기존의 함수와 동일하게 호출 가능합니다.\n",
    "\n",
    "\n",
    "<center>\n",
    "    <img src=\"https://user-images.githubusercontent.com/18046097/61181744-2a1d9400-a665-11e9-9095-6924ca11122e.png\">\n",
    "</center>"
   ]
  },
  {
   "cell_type": "markdown",
   "metadata": {},
   "source": [
    "* 호출시 인자가 없으면 기본 인자 값이 활용됩니다.\n",
    "\n",
    "\n",
    "<center>\n",
    "    <img src=\"https://user-images.githubusercontent.com/18046097/61181745-2a1d9400-a665-11e9-95ef-e50e463e1583.png\", alt=\"function example 03\">\n",
    "</center>"
   ]
  },
  {
   "cell_type": "markdown",
   "metadata": {},
   "source": [
    "**\\*주의\\* 단, 기본 인자값(Default Argument Value)을 가지는 인자 다음에 기본 값이 없는 인자를 사용할 수는 없습니다.**"
   ]
  },
  {
   "cell_type": "code",
   "execution_count": 65,
   "metadata": {},
   "outputs": [
    {
     "ename": "SyntaxError",
     "evalue": "parameter without a default follows parameter with a default (1958158962.py, line 2)",
     "output_type": "error",
     "traceback": [
      "\u001b[1;36m  Cell \u001b[1;32mIn[65], line 2\u001b[1;36m\u001b[0m\n\u001b[1;33m    def greeting(name='john', age):\u001b[0m\n\u001b[1;37m                              ^\u001b[0m\n\u001b[1;31mSyntaxError\u001b[0m\u001b[1;31m:\u001b[0m parameter without a default follows parameter with a default\n"
     ]
    }
   ],
   "source": [
    "# 다음 코드를 바로 실행해서 오류를 확인해봅시다.\n",
    "def greeting(name='john', age):\n",
    "    return f'{name}은 {age}살입니다.'\n",
    "\n",
    "\n",
    "greeting(20)"
   ]
  },
  {
   "cell_type": "markdown",
   "metadata": {},
   "source": [
    "오류가 발생하지 않도록 다음 셀에 직접 수정하고 실행해봅시다.\n",
    "\n",
    "(오류가 발생한 원인을 친절히 안내해준다는 것을 다시 한번 확인 할 수 있습니다.)\n",
    "\n",
    "- Error 문장을 다시 읽어보면, `non-default argument follows default argument`\n",
    "- 즉, 기본 인자는 기본 인자가 아닌 친구들 다음에 위치해야한다고 알려주고 있습니다. 수정해봅시다.\n",
    "\n",
    "```python\n",
    "def 함수이름(기본인자가 아닌 친구들, 기본인자):\n",
    "    매개변수를 활용하여 문장(문자열)을 완성해서 반환합니다.\n",
    "```"
   ]
  },
  {
   "cell_type": "code",
   "execution_count": 71,
   "metadata": {},
   "outputs": [],
   "source": [
    "def greeting(age, name='john'):\n",
    "    return f'{name}은 {age}살입니다.'"
   ]
  },
  {
   "cell_type": "code",
   "execution_count": 72,
   "metadata": {},
   "outputs": [
    {
     "data": {
      "text/plain": [
       "'10은 max살입니다.'"
      ]
     },
     "execution_count": 72,
     "metadata": {},
     "output_type": "execute_result"
    }
   ],
   "source": [
    "# 해당 코드를 통해 올바른 결과가 나오는지 확인하세요.\n",
    "greeting(1)\n",
    "greeting(2, 'jason')\n",
    "greeting('max', 10)"
   ]
  },
  {
   "cell_type": "markdown",
   "metadata": {},
   "source": [
    "### 키워드 인자 (Keyword Arguments)\n",
    "\n",
    "**함수를 호출할 때** 키워드 인자를 활용하여 직접 변수의 이름으로 특정 인자를 전달할 수 있습니다."
   ]
  },
  {
   "cell_type": "code",
   "execution_count": 74,
   "metadata": {},
   "outputs": [],
   "source": [
    "# 다음 코드를 실행해서 greeting 함수를 선언합니다.\n",
    "def greeting(age, name, address, major):\n",
    "    return f'{name}은 {age}살입니다. 전공은 {major}, 주소는 {address}입니다.'"
   ]
  },
  {
   "cell_type": "code",
   "execution_count": 79,
   "metadata": {},
   "outputs": [
    {
     "data": {
      "text/plain": [
       "'lee은 20살입니다. 전공은 soc, 주소는 강남입니다.'"
      ]
     },
     "execution_count": 79,
     "metadata": {},
     "output_type": "execute_result"
    }
   ],
   "source": [
    "# 다음 코드를 실행해서 오류를 직접 확인해봅시다.\n",
    "greeting(20, 'lee', major='soc', address='강남')"
   ]
  },
  {
   "cell_type": "code",
   "execution_count": 75,
   "metadata": {},
   "outputs": [
    {
     "data": {
      "text/plain": [
       "'kim은 20살입니다. 전공은 cs, 주소는 강남입니다.'"
      ]
     },
     "execution_count": 75,
     "metadata": {},
     "output_type": "execute_result"
    }
   ],
   "source": [
    "# 아래와 같이 키워드 인자를 사용해서 함수를 호출할 수 있습니다.\n",
    "greeting(name='kim', age=20, major='cs', address='강남')"
   ]
  },
  {
   "cell_type": "code",
   "execution_count": 77,
   "metadata": {},
   "outputs": [
    {
     "data": {
      "text/plain": [
       "'lee은 20살입니다. 전공은 soc, 주소는 강남입니다.'"
      ]
     },
     "execution_count": 77,
     "metadata": {},
     "output_type": "execute_result"
    }
   ],
   "source": [
    "# 위치 인자와 함께 사용할 수 있습니다.\n",
    "greeting(20, 'lee', major='soc', address='강남')"
   ]
  },
  {
   "cell_type": "markdown",
   "metadata": {},
   "source": [
    "* **단 아래와 같이 `키워드 인자`를 활용한 다음에 `위치 인자`를 활용할 수는 없습니다.**"
   ]
  },
  {
   "cell_type": "code",
   "execution_count": 80,
   "metadata": {},
   "outputs": [
    {
     "ename": "SyntaxError",
     "evalue": "positional argument follows keyword argument (721555339.py, line 2)",
     "output_type": "error",
     "traceback": [
      "\u001b[1;36m  Cell \u001b[1;32mIn[80], line 2\u001b[1;36m\u001b[0m\n\u001b[1;33m    greeting(major='경영', age=24, '서울', '철수')\u001b[0m\n\u001b[1;37m                                           ^\u001b[0m\n\u001b[1;31mSyntaxError\u001b[0m\u001b[1;31m:\u001b[0m positional argument follows keyword argument\n"
     ]
    }
   ],
   "source": [
    "# 다음 코드를 실행해서 오류를 직접 확인해봅시다.\n",
    "greeting(major='경영', age=24, '서울', '철수')"
   ]
  },
  {
   "cell_type": "markdown",
   "metadata": {},
   "source": [
    "## 정해지지 않은 여러 개의 인자 처리\n"
   ]
  },
  {
   "cell_type": "markdown",
   "metadata": {},
   "source": [
    "우리가 주로 활용하는 `print()` 함수는 [파이썬 표준 라이브러리의 내장함수](https://docs.python.org/ko/3.6/library/functions.html) 중 하나이며, 다음과 같이 구성되어있습니다.\n",
    "> <center>\n",
    "    <img src=\"https://user-images.githubusercontent.com/18046097/61181751-2b4ec100-a665-11e9-9a7c-a19a8c445cfa.png\", alt=\"print\">\n",
    "</center>"
   ]
  },
  {
   "cell_type": "code",
   "execution_count": null,
   "metadata": {},
   "outputs": [],
   "source": [
    "# 지금까지 열심히 사용했던 print에는 여러 값을 넣을 수 있습니다."
   ]
  },
  {
   "cell_type": "code",
   "execution_count": null,
   "metadata": {},
   "outputs": [],
   "source": []
  },
  {
   "cell_type": "markdown",
   "metadata": {},
   "source": [
    "### 가변(임의) 인자 리스트(Arbitrary Argument Lists)\n",
    "\n",
    "앞서 설명한 `print()`처럼 개수가 정해지지 않은 임의의 인자를 받기 위해서는 **함수를 정의할 때** 가변 인자 리스트`*args`를 활용합니다. \n",
    "\n",
    "가변 인자 리스트는 `tuple` 형태로 처리가 되며, 매개변수에 `*`로 표현합니다. \n",
    "\n",
    "---\n",
    "\n",
    "**활용법**\n",
    "\n",
    "```python\n",
    "def func(a, b, *args):\n",
    "```\n",
    "> `*args` : 임의의 개수의 위치인자를 받음을 의미\n",
    "> \n",
    "> 보통, 이 가변 인자 리스트는 매개변수 목록의 마지막에 옵니다."
   ]
  },
  {
   "cell_type": "code",
   "execution_count": null,
   "metadata": {},
   "outputs": [],
   "source": [
    "# 앞서 살펴봤던 print문에 대한 공식문서를 다시 한번 살펴봅니다.\n",
    "# 바로, *obejcts를 통해 임의의 숫자의 인자를 모두 처리(가변 인자 리스트)하고 있다는 것을 알 수 있습니다."
   ]
  },
  {
   "cell_type": "code",
   "execution_count": null,
   "metadata": {},
   "outputs": [],
   "source": [
    "print('hi', '안녕', 'Guten Tag', 'gonnichiwa', sep=',')"
   ]
  },
  {
   "cell_type": "code",
   "execution_count": null,
   "metadata": {},
   "outputs": [],
   "source": [
    "# 또한, args는 함수 내부에서 tuple 자료형으로 사용됩니다."
   ]
  },
  {
   "cell_type": "code",
   "execution_count": null,
   "metadata": {},
   "outputs": [],
   "source": []
  },
  {
   "cell_type": "markdown",
   "metadata": {},
   "source": [
    "### [연습] 가변 인자 리스트를 사용해봅시다.\n",
    "\n",
    "> 정수를 여러 개 받아서 가장 큰 값을 반환(return)하는 함수 `my_max()`를 작성하세요.\n",
    ">\n",
    "> max 내장 함수 사용은 금지합니다.\n",
    "\n",
    "```python\n",
    "my_max(10, 20, 30, 50)\n",
    "```\n",
    "---\n",
    "```\n",
    "예시출력)\n",
    "50\n",
    "```"
   ]
  },
  {
   "cell_type": "code",
   "execution_count": null,
   "metadata": {},
   "outputs": [],
   "source": [
    "# 정해지지 않은 여러 개의 인자를 내장 함수 max에서는 어떻게 처리하는지 확인해봅시다."
   ]
  },
  {
   "cell_type": "code",
   "execution_count": null,
   "metadata": {},
   "outputs": [],
   "source": [
    "max(1, 2, 3, 4, 5, 6, 7)"
   ]
  },
  {
   "cell_type": "markdown",
   "metadata": {},
   "source": [
    "이제 my_max 이름의 함수를 직접 선언해봅시다.\n",
    "\n",
    "용어 이름은 가변 인자 리스트이지만, 기본적으로 튜플 자료형임에 주의합니다.\n",
    "- `*` (별표 1개)를 매개변수에 작성해야합니다.\n",
    "- 말 그대로 정해지지 않았기 때문에, 이번 예제에서는 반복문을 통해 간편하게 개별 값에 접근합니다.\n",
    "\n",
    "```python\n",
    "def 함수이름(가변 인자 리스트):\n",
    "    가변 인자 리스트 중 처음 값을 기준이 되는 값으로 할당합니다.\n",
    "    반복문을 통해 입력 받은 값들을 검사합니다.\n",
    "    조건문으로 기준이 되는 값과 다른 요소들을 비교해서, 더 큰 값을 기준값으로 변경합니다.\n",
    "    찾아낸 최대값을 반환합니다.\n",
    "```     "
   ]
  },
  {
   "cell_type": "code",
   "execution_count": null,
   "metadata": {},
   "outputs": [],
   "source": [
    "# 최대값\n"
   ]
  },
  {
   "cell_type": "code",
   "execution_count": null,
   "metadata": {},
   "outputs": [],
   "source": [
    "# 함수화"
   ]
  },
  {
   "cell_type": "code",
   "execution_count": null,
   "metadata": {},
   "outputs": [],
   "source": []
  },
  {
   "cell_type": "code",
   "execution_count": null,
   "metadata": {
    "scrolled": false
   },
   "outputs": [],
   "source": [
    "# 다음 코드를 실행해 올바른 결과가 나오는지 확인하세요.\n",
    "print(my_max(3, 1, 2, 4))"
   ]
  },
  {
   "cell_type": "markdown",
   "metadata": {},
   "source": [
    "### 가변(임의) 키워드 인자(Arbitrary Keyword Arguments)\n",
    "\n",
    "정해지지 않은 키워드 인자들은 **함수를 정의할 때** 가변 키워드 인자 `**kwargs`를 활용합니다. \n",
    "\n",
    "가변 키워드 인자는 **`dict`** 형태로 처리가 되며, 매개변수에 `**`로 표현합니다. \n",
    "\n",
    "---\n",
    "\n",
    "**활용법**\n",
    "\n",
    "```python\n",
    "def func(**kwargs):\n",
    "```\n",
    "> `**kwargs` : 임의의 개수의 키워드 인자를 받음을 의미합니다"
   ]
  },
  {
   "cell_type": "markdown",
   "metadata": {},
   "source": [
    "우리가 dictionary를 만들 때 사용할 수 있는 `dict()` 함수는 [파이썬 표준 라이브러리의 내장함수](https://docs.python.org/ko/3.6/library/functions.html) 중 하나이며, 다음과 같이 구성되어 있습니다.\n",
    "> <center>\n",
    "    <img src=\"https://user-images.githubusercontent.com/18046097/61181740-2984fd80-a665-11e9-94cf-7f5ab41873b1.png\", alt=\"dictionary\">\n",
    "</center>"
   ]
  },
  {
   "cell_type": "code",
   "execution_count": null,
   "metadata": {},
   "outputs": [],
   "source": [
    "def my_func(a, b=1, *args, **kwargs):\n",
    "    print(a, b, args, kwargs)\n",
    "    \n",
    "my_func(1, 2, True, False, 'a', x=1, y=2, z=3)"
   ]
  },
  {
   "cell_type": "code",
   "execution_count": null,
   "metadata": {},
   "outputs": [],
   "source": [
    "# 딕셔너리 생성 함수 예시입니다.\n",
    "# 가변 키워드 인자 활용을 확인해보기 위한 예시입니다."
   ]
  },
  {
   "cell_type": "code",
   "execution_count": null,
   "metadata": {},
   "outputs": [],
   "source": [
    "hi = dict(한국어='안녕', 영어='hi')\n",
    "print(hi)"
   ]
  },
  {
   "cell_type": "code",
   "execution_count": null,
   "metadata": {},
   "outputs": [],
   "source": [
    "# 식별자는 숫자만으로는 이루어질 수가 없다는 것에 주의합니다.\n",
    "# 키워드인자로 넘기면 함수 안에서 식별자(변수이름)로 쓰이기 때문입니다."
   ]
  },
  {
   "cell_type": "code",
   "execution_count": null,
   "metadata": {},
   "outputs": [],
   "source": [
    "dict(1=1, 2=2)  # SyntaxError"
   ]
  },
  {
   "cell_type": "code",
   "execution_count": null,
   "metadata": {},
   "outputs": [],
   "source": [
    "# Key가 숫자인 딕셔너리를 만들고 싶다면, 아래와 같이 사용해야합니다.\n",
    "print(dict([(1, 1), (2, 2)]))\n",
    "print(dict(((1,1), (2,2))))"
   ]
  },
  {
   "cell_type": "code",
   "execution_count": null,
   "metadata": {},
   "outputs": [],
   "source": [
    "# 아래 셀의 코드를 실행시켜 kwargs가 딕셔너리로 처리되는 것을 확인해봅시다."
   ]
  },
  {
   "cell_type": "code",
   "execution_count": null,
   "metadata": {},
   "outputs": [],
   "source": [
    "def my_dict(**kwargs):\n",
    "    return kwargs\n",
    "\n",
    "print(my_dict(한국어='안녕', 영어='hi', 독일어='Guten Tag'))"
   ]
  },
  {
   "cell_type": "markdown",
   "metadata": {},
   "source": [
    "<p style=\"font-size: 33px; font-weight: 700; margin-bottom: 3rem\">함수(function) II</p>\n",
    "\n",
    "- 함수와 스코프\n",
    "- 재귀 함수\n",
    "- 함수 응용"
   ]
  },
  {
   "cell_type": "markdown",
   "metadata": {},
   "source": [
    "# 함수와 스코프(scope)\n",
    "\n",
    "함수는 코드 내부에 스코프(scope)를 생성합니다. 함수로 생성된 공간은 `지역 스코프(local scope)`라고 불리며, 그 외의 공간인 `전역 스코프(global scope)`와 구분됩니다.\n",
    "\n",
    "* **전역 스코프(`global scope`)**: 코드 어디에서든 참조할 수 있는 공간\n",
    "* **지역 스코프(`local scope`)**: 함수가 만든 스코프로 함수 내부에서만 참조할 수 있는 공간\n",
    "\n",
    "\n",
    "* **전역 변수(`global variable`)**: 전역 스코프에 정의된 변수\n",
    "* **지역 변수(`local variable`)**: 로컬 스코프에 정의된 변수\n"
   ]
  },
  {
   "cell_type": "code",
   "execution_count": null,
   "metadata": {},
   "outputs": [],
   "source": [
    "# 전역 스코프와 지역 스코프를 알아봅시다.\n",
    "# 먼저, 지역스코프에서 전역스코프의 변수는 참조할 수 있습니다."
   ]
  },
  {
   "cell_type": "code",
   "execution_count": null,
   "metadata": {},
   "outputs": [],
   "source": []
  },
  {
   "cell_type": "code",
   "execution_count": null,
   "metadata": {},
   "outputs": [],
   "source": [
    "# 전역 스코프에서는 지역 스코프의 변수를 참조할 수 없습니다.\n",
    "# func 함수 바깥에서 함수 안의 지역 변수 c를 출력하고 오류를 확인해봅시다."
   ]
  },
  {
   "cell_type": "code",
   "execution_count": null,
   "metadata": {},
   "outputs": [],
   "source": []
  },
  {
   "cell_type": "code",
   "execution_count": null,
   "metadata": {},
   "outputs": [],
   "source": [
    "# 전역 스코프와 지역 스코프에 같은 이름의 변수를 만들면 어떻게 되는지 확인해봅시다."
   ]
  },
  {
   "cell_type": "code",
   "execution_count": null,
   "metadata": {},
   "outputs": [],
   "source": []
  },
  {
   "cell_type": "code",
   "execution_count": null,
   "metadata": {},
   "outputs": [],
   "source": []
  },
  {
   "cell_type": "markdown",
   "metadata": {},
   "source": [
    "1. 함수 밖의 변수(global var), 함수 안의 변수(local var)\n",
    "    - 인자는 함수 안의 변수 취급한다.\n",
    "2. 함수 안(local scope)에서는 함수 밖(global scope)에 접근 가능하다.\n",
    "    - 함수 안에 `a`가 없으면, 함수 밖에서 `a`를 찾는다.\n",
    "    - 만약, 함수 안에 `a`가 있다면, 함수 밖 `a`는 접근할 수 없다.\n",
    "3. 함수 밖에서는 함수 안에 접근이 불가능하다."
   ]
  },
  {
   "cell_type": "markdown",
   "metadata": {
    "tags": []
   },
   "source": [
    "### 변수의 수명주기(lifecycle)\n",
    "\n",
    "변수의 이름은 각자의 `수명주기(lifecycle)`가 있습니다.\n",
    "\n",
    "* **빌트인 스코프`(built-in scope)`**: 파이썬이 실행된 이후부터 영원히 유지\n",
    "\n",
    "\n",
    "* **전역 스코프`(global scope)`**: 모듈이 호출된 시점 이후 혹은 이름 선언된 이후부터 인터프리터가 끝날 때 까지 유지\n",
    "\n",
    "\n",
    "* **지역(함수) 스코프`(local scope)`**: 함수가 호출될 때 생성되고, 함수가 종료될 때까지 유지 (함수 내에서 처리되지 않는 예외를 일으킬 때 삭제됨)"
   ]
  },
  {
   "cell_type": "markdown",
   "metadata": {},
   "source": [
    "## 이름 검색(resolution) 규칙\n",
    "\n",
    "파이썬에서 사용되는 이름(식별자)들은 이름공간(namespace)에 저장되어 있습니다.\n",
    "\n",
    "아래와 같은 순서로 이름을 찾아나가며, `LEGB Rule` 이라고 부릅니다.\n",
    "\n",
    "* `L`ocal scope: 함수\n",
    "\n",
    "\n",
    "* `E`nclosed scope: 특정 함수의 상위 함수 \n",
    "\n",
    "\n",
    "* `G`lobal scope: 함수 밖의 변수 혹은 import된 모듈\n",
    "\n",
    "\n",
    "* `B`uilt-in scope: 파이썬안에 내장되어 있는 함수 또는 속성"
   ]
  },
  {
   "cell_type": "code",
   "execution_count": null,
   "metadata": {},
   "outputs": [],
   "source": [
    "# 이것을 통해 첫시간에 내장함수의 식별자를 사용할 수 없었던 예제에서 오류가 생기는 이유를 확인할 수 있습니다.\n",
    "# Built-in scope와 Global scope를 알아봅시다."
   ]
  },
  {
   "cell_type": "code",
   "execution_count": null,
   "metadata": {},
   "outputs": [],
   "source": []
  },
  {
   "cell_type": "code",
   "execution_count": null,
   "metadata": {},
   "outputs": [],
   "source": [
    "# print라는 이름(식별자)이 'bibibig'라는 문자열 정보를 저장한 하나의 변수가 되었습니다.\n",
    "# 내장 함수인 print 함수를 다시 사용할 수 있도록 print라는 이름의 변수를 삭제합니다."
   ]
  },
  {
   "cell_type": "code",
   "execution_count": null,
   "metadata": {},
   "outputs": [],
   "source": []
  },
  {
   "cell_type": "markdown",
   "metadata": {},
   "source": [
    "## \n",
    "\n",
    "1. `print()` 코드가 실행되면\n",
    "\n",
    "\n",
    "2. 함수에서 실행된 코드가 아니기 때문에 `L`, `E` 를 건너 뛰고,\n",
    "\n",
    "\n",
    "3. `print`라는 식별자를 Global scope에서 찾아서 `print = 'bibig'`를 가져오고, \n",
    "\n",
    "\n",
    "4. 이는 함수가 아니라 변수이기 때문에 `not callable`하다라는 오류를 내뱉게 됩니다.\n",
    "\n",
    "\n",
    "5. 우리가 원하는 `print()`은 Built-in scope에 있기 때문입니다."
   ]
  },
  {
   "cell_type": "code",
   "execution_count": null,
   "metadata": {},
   "outputs": [],
   "source": [
    "# Global scope(G)와 Local scope(L)를 다시 한번 복습합니다."
   ]
  },
  {
   "cell_type": "code",
   "execution_count": null,
   "metadata": {},
   "outputs": [],
   "source": []
  },
  {
   "cell_type": "code",
   "execution_count": null,
   "metadata": {
    "scrolled": true
   },
   "outputs": [],
   "source": [
    "# 앞선 내용(G & L)을 확장하여 LEGB Rule을 자세히 알아봅시다.\n",
    "# 각 변수가 어느 스코프에 해당하는 변수인지 확인해보고 왜 그렇게 되는지 고민해보세요."
   ]
  },
  {
   "cell_type": "code",
   "execution_count": null,
   "metadata": {},
   "outputs": [],
   "source": []
  },
  {
   "cell_type": "code",
   "execution_count": null,
   "metadata": {},
   "outputs": [],
   "source": [
    "# 전역 변수를 바꿀 수 있을까요?"
   ]
  },
  {
   "cell_type": "code",
   "execution_count": null,
   "metadata": {},
   "outputs": [],
   "source": [
    "# 기본적으로 지역 스코프에서 전역 스코프의 변수를 바꿀 수는 없습니다.\n",
    "# 아래 셀의 코드에서 함수 내부의 global_num은 지역 변수로 생성됩니다."
   ]
  },
  {
   "cell_type": "code",
   "execution_count": null,
   "metadata": {},
   "outputs": [],
   "source": []
  },
  {
   "cell_type": "code",
   "execution_count": null,
   "metadata": {},
   "outputs": [],
   "source": [
    "# 전역에 있는 변수의 값을 변경하고 싶다면,\n",
    "# 아래와 같이 global 키워드를 사용하여 지역 스코프에서 전역 변수의 값을 바꿀 수 있습니다."
   ]
  },
  {
   "cell_type": "code",
   "execution_count": null,
   "metadata": {},
   "outputs": [],
   "source": []
  },
  {
   "cell_type": "markdown",
   "metadata": {},
   "source": [
    "* 기본적으로 함수에서 선언된 변수는 Local scope에 생성되며, 함수 종료 시 사라집니다.\n",
    "* 해당 스코프에 변수가 없는 경우 LEGB rule에 의해 이름을 검색합니다.\n",
    "    * 변수에 접근은 가능하지만, 해당 변수를 재할당할 수는 없습니다.\n",
    "    * 값을 할당하는 경우 해당 스코프의 이름공간에 새롭게 생성되기 때문입니다.\n",
    "    * **단, 함수 내에서 필요한 상위 스코프 변수는 인자로 넘겨서 활용합니다.** (클로저 제외)\n",
    "* 상위 스코프에 있는 변수를 수정하고 싶다면 global, nonlocal 키워드를 활용 가능합니다.\n",
    "    * 단, 코드가 복잡해지면서 변수의 변경을 추적하기 어렵고, 예기치 못한 오류가 발생합니다."
   ]
  },
  {
   "cell_type": "code",
   "execution_count": null,
   "metadata": {},
   "outputs": [],
   "source": []
  },
  {
   "cell_type": "code",
   "execution_count": null,
   "metadata": {},
   "outputs": [],
   "source": []
  },
  {
   "cell_type": "code",
   "execution_count": null,
   "metadata": {},
   "outputs": [],
   "source": []
  },
  {
   "cell_type": "code",
   "execution_count": null,
   "metadata": {},
   "outputs": [],
   "source": []
  },
  {
   "cell_type": "markdown",
   "metadata": {},
   "source": [
    "## 함수 응용"
   ]
  },
  {
   "cell_type": "markdown",
   "metadata": {},
   "source": [
    "## `map(function, iterable)`\n",
    "\n",
    "* 순회가능한 데이터 구조(iterable)의 모든 요소에 function을 적용한 후 그 결과를 돌려준다. \n",
    "\n",
    "\n",
    "* return은 `map_object` 형태이다."
   ]
  },
  {
   "cell_type": "code",
   "execution_count": null,
   "metadata": {},
   "outputs": [],
   "source": []
  },
  {
   "cell_type": "code",
   "execution_count": null,
   "metadata": {},
   "outputs": [],
   "source": []
  },
  {
   "cell_type": "code",
   "execution_count": null,
   "metadata": {},
   "outputs": [],
   "source": []
  },
  {
   "cell_type": "code",
   "execution_count": null,
   "metadata": {},
   "outputs": [],
   "source": [
    "numbers = [1, 2, 3]\n"
   ]
  },
  {
   "cell_type": "code",
   "execution_count": null,
   "metadata": {},
   "outputs": [],
   "source": [
    "# map() 활용"
   ]
  },
  {
   "cell_type": "code",
   "execution_count": null,
   "metadata": {},
   "outputs": [],
   "source": []
  },
  {
   "cell_type": "markdown",
   "metadata": {},
   "source": [
    "## lambda 함수\n",
    "\n",
    "* 표현식을 계산한 결과 값을 반환하는 함수로, 이름이 없는 함수여서 익명함수라고도 불립니다.\n",
    "\n",
    "* return 문을 가질 수 없고, 간단한 조건문 외의 구성이 어렵습니다.\n",
    "\n",
    "* 함수를 정의해서 사용하는 것보다 간결하게 사용 가능합니다.\n",
    "\n",
    "```python\n",
    "\n",
    "def triangle_area(b, h):\n",
    "    return 0.5 * b * h\n",
    "\n",
    "lambda b, h: 0.5 * b * h\n",
    "```"
   ]
  },
  {
   "cell_type": "code",
   "execution_count": null,
   "metadata": {},
   "outputs": [],
   "source": [
    "# 아래와 같이 간단한 함수를 정의해서 사용하는 것이 아니라 간결하게 사용 가능합니다.\n",
    "def f1(x, y):\n",
    "    return x + y"
   ]
  }
 ],
 "metadata": {
  "kernelspec": {
   "display_name": "Python 3 (ipykernel)",
   "language": "python",
   "name": "python3"
  },
  "language_info": {
   "codemirror_mode": {
    "name": "ipython",
    "version": 3
   },
   "file_extension": ".py",
   "mimetype": "text/x-python",
   "name": "python",
   "nbconvert_exporter": "python",
   "pygments_lexer": "ipython3",
   "version": "3.12.4"
  },
  "toc": {
   "base_numbering": 1,
   "nav_menu": {},
   "number_sections": true,
   "sideBar": true,
   "skip_h1_title": false,
   "title_cell": "Table of Contents",
   "title_sidebar": "Contents",
   "toc_cell": false,
   "toc_position": {},
   "toc_section_display": true,
   "toc_window_display": false
  },
  "toc-autonumbering": false,
  "toc-showcode": false,
  "toc-showmarkdowntxt": false,
  "toc-showtags": false,
  "vscode": {
   "interpreter": {
    "hash": "51d354aa4721e008858a28cad10f7efbfd288bcf50ac31411bfc117a31ae17c9"
   }
  }
 },
 "nbformat": 4,
 "nbformat_minor": 4
}
