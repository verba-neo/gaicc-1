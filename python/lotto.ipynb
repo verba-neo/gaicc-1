{
 "cells": [
  {
   "cell_type": "markdown",
   "metadata": {},
   "source": [
    "# `python/lotto.ipynb`"
   ]
  },
  {
   "cell_type": "code",
   "execution_count": null,
   "metadata": {},
   "outputs": [],
   "source": [
    "import requests\n",
    "from bs4 import BeautifulSoup\n",
    "\n",
    "# URL 로 요청을 보내서 문서를 받아온 다음\n",
    "URL = 'https://dhlottery.co.kr/gameResult.do?method=byWin'\n",
    "response = requests.get(URL)\n",
    "# 문서를 parsing\n",
    "html = BeautifulSoup(response.text, 'html.parser')\n",
    "\n",
    "balls = []\n",
    "\n",
    "for ball_info in html.select('.ball_645'):\n",
    "    balls.append(int(ball_info.text))\n",
    "\n",
    "balls"
   ]
  },
  {
   "cell_type": "code",
   "execution_count": null,
   "metadata": {},
   "outputs": [],
   "source": [
    "import requests\n",
    "from bs4 import BeautifulSoup\n",
    "import random\n",
    "\n",
    "# 1. 이번 주 로또 번호와 보너스 번호 가져오기\n",
    "def get_lotto_numbers():\n",
    "    url = \"https://dhlottery.co.kr/gameResult.do?method=byWin\"\n",
    "    response = requests.get(url)\n",
    "    response.encoding = 'utf-8'  # 인코딩 설정\n",
    "    soup = BeautifulSoup(response.text, 'html.parser')\n",
    "    \n",
    "    # 당첨 번호와 보너스 번호 가져오기\n",
    "    numbers = soup.select('.ball_645')\n",
    "    winning_numbers = [int(number.text) for number in numbers[:6]]\n",
    "    bonus_number = int(numbers[6].text)\n",
    "    \n",
    "    return winning_numbers, bonus_number\n",
    "\n",
    "# 2. 랜덤 번호 6개 생성하기\n",
    "def generate_random_numbers():\n",
    "    return random.sample(range(1, 46), 6)\n",
    "\n",
    "# 3. 등수 확인하기\n",
    "def check_rank(winning_numbers, bonus_number, user_numbers):\n",
    "    matching_numbers = len(set(winning_numbers) & set(user_numbers))\n",
    "    is_bonus_matched = bonus_number in user_numbers\n",
    "    \n",
    "    if matching_numbers == 6:\n",
    "        return \"1등\"\n",
    "    elif matching_numbers == 5 and is_bonus_matched:\n",
    "        return \"2등\"\n",
    "    elif matching_numbers == 5:\n",
    "        return \"3등\"\n",
    "    elif matching_numbers == 4:\n",
    "        return \"4등\"\n",
    "    elif matching_numbers == 3:\n",
    "        return \"5등\"\n",
    "    else:\n",
    "        return \"꽝\"\n",
    "\n",
    "# 메인 프로그램\n",
    "if __name__ == \"__main__\":\n",
    "    winning_numbers, bonus_number = get_lotto_numbers()\n",
    "    user_numbers = generate_random_numbers()\n",
    "    \n",
    "    print(f\"이번 주 당첨 번호: {winning_numbers}\")\n",
    "    print(f\"보너스 번호: {bonus_number}\")\n",
    "    print(f\"랜덤 생성 번호: {user_numbers}\")\n",
    "    \n",
    "    rank = check_rank(winning_numbers, bonus_number, user_numbers)\n",
    "    print(f\"당신의 등수는: {rank}\")\n"
   ]
  },
  {
   "cell_type": "code",
   "execution_count": 2,
   "metadata": {},
   "outputs": [],
   "source": [
    "import requests\n",
    "import random\n",
    "# API URL\n",
    "# 핵심은 결국 URL 로 요청. 어떤 URL은 HTML을, 어떤 URL은 데이터(JSON)만 응답으로 제공\n",
    "URL = 'https://www.dhlottery.co.kr/common.do?method=getLottoNumber&drwNo=1126'\n",
    "response = requests.get(URL)\n",
    "data = response.json()\n",
    "\n",
    "# API 로 받아온 데이터로 로또번호 확인기\n",
    "# 추첨번호 6개와 보너스번호 1개 뽑기\n",
    "real_numbers = []\n",
    "for i in range(1, 7):\n",
    "    real_numbers.append(data[f'drwtNo{i}'])\n",
    "\n",
    "real_numbers = [data[f'drwtNo{i}'] for i in range(1, 7)]\n",
    "bonus = data['bnusNo']"
   ]
  },
  {
   "cell_type": "code",
   "execution_count": 3,
   "metadata": {},
   "outputs": [
    {
     "name": "stdout",
     "output_type": "stream",
     "text": [
      "{'count': 10843364, '1st': 1, '2nd': 6, '3rd': 309, '4th': 14739, '5th': 244058, '😒': 10584251}\n"
     ]
    }
   ],
   "source": [
    "result = {\n",
    "    'count': 0,\n",
    "    '1st': 0,\n",
    "    '2nd': 0,\n",
    "    '3rd': 0,\n",
    "    '4th': 0,\n",
    "    '5th': 0,\n",
    "    '😒': 0,\n",
    "}\n",
    "\n",
    "while True:\n",
    "    my_numbers = random.sample(range(1, 46), 6)\n",
    "    result['count'] += 1\n",
    "    # 내가 뽑은 랜덤 번호와 비교하여 등수 비교하기\n",
    "    hit = len(set(real_numbers) & set(my_numbers))\n",
    "    if hit == 6:\n",
    "        result['1st'] += 1\n",
    "        break\n",
    "    # hit 이 5개 맞고, 내가 뽑은 번호중에 보-너스 번호가 있으면\n",
    "    elif hit == 5 and (bonus in my_numbers):\n",
    "        result['2nd'] += 1\n",
    "    elif hit == 5:\n",
    "        result['3rd'] += 1\n",
    "    elif hit == 4:\n",
    "        result['4th'] += 1\n",
    "    elif hit == 3:\n",
    "        result['5th'] += 1\n",
    "    else:\n",
    "        result['😒'] += 1\n",
    "\n",
    "print(result)\n",
    "# 몇번만에 1등에 당첨됐는지,\n",
    "# 2, 3, 4, 5, 꽝 이 지금까지 몇번 나왔는지만 최종 출력하도록!\n"
   ]
  }
 ],
 "metadata": {
  "kernelspec": {
   "display_name": "Python 3",
   "language": "python",
   "name": "python3"
  },
  "language_info": {
   "codemirror_mode": {
    "name": "ipython",
    "version": 3
   },
   "file_extension": ".py",
   "mimetype": "text/x-python",
   "name": "python",
   "nbconvert_exporter": "python",
   "pygments_lexer": "ipython3",
   "version": "3.12.4"
  }
 },
 "nbformat": 4,
 "nbformat_minor": 2
}
