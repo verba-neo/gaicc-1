{
 "cells": [
  {
   "cell_type": "markdown",
   "metadata": {},
   "source": [
    "# `python/lotto.ipynb`"
   ]
  },
  {
   "cell_type": "code",
   "execution_count": 20,
   "metadata": {},
   "outputs": [
    {
     "data": {
      "text/plain": [
       "[4, 5, 9, 11, 37, 40, 7]"
      ]
     },
     "execution_count": 20,
     "metadata": {},
     "output_type": "execute_result"
    }
   ],
   "source": [
    "import requests\n",
    "from bs4 import BeautifulSoup\n",
    "\n",
    "# URL 로 요청을 보내서 문서를 받아온 다음\n",
    "URL = 'https://dhlottery.co.kr/gameResult.do?method=byWin'\n",
    "response = requests.get(URL)\n",
    "# 문서를 parsing\n",
    "html = BeautifulSoup(response.text, 'html.parser')\n",
    "\n",
    "balls = []\n",
    "\n",
    "for ball_info in html.select('.ball_645'):\n",
    "    balls.append(int(ball_info.text))\n",
    "\n",
    "balls"
   ]
  },
  {
   "cell_type": "code",
   "execution_count": 21,
   "metadata": {},
   "outputs": [
    {
     "name": "stdout",
     "output_type": "stream",
     "text": [
      "이번 주 당첨 번호: [4, 5, 9, 11, 37, 40]\n",
      "보너스 번호: 7\n",
      "랜덤 생성 번호: [19, 21, 44, 14, 11, 8]\n",
      "당신의 등수는: 꽝\n"
     ]
    }
   ],
   "source": [
    "import requests\n",
    "from bs4 import BeautifulSoup\n",
    "import random\n",
    "\n",
    "# 1. 이번 주 로또 번호와 보너스 번호 가져오기\n",
    "def get_lotto_numbers():\n",
    "    url = \"https://dhlottery.co.kr/gameResult.do?method=byWin\"\n",
    "    response = requests.get(url)\n",
    "    response.encoding = 'utf-8'  # 인코딩 설정\n",
    "    soup = BeautifulSoup(response.text, 'html.parser')\n",
    "    \n",
    "    # 당첨 번호와 보너스 번호 가져오기\n",
    "    numbers = soup.select('.ball_645')\n",
    "    winning_numbers = [int(number.text) for number in numbers[:6]]\n",
    "    bonus_number = int(numbers[6].text)\n",
    "    \n",
    "    return winning_numbers, bonus_number\n",
    "\n",
    "# 2. 랜덤 번호 6개 생성하기\n",
    "def generate_random_numbers():\n",
    "    return random.sample(range(1, 46), 6)\n",
    "\n",
    "# 3. 등수 확인하기\n",
    "def check_rank(winning_numbers, bonus_number, user_numbers):\n",
    "    matching_numbers = len(set(winning_numbers) & set(user_numbers))\n",
    "    is_bonus_matched = bonus_number in user_numbers\n",
    "    \n",
    "    if matching_numbers == 6:\n",
    "        return \"1등\"\n",
    "    elif matching_numbers == 5 and is_bonus_matched:\n",
    "        return \"2등\"\n",
    "    elif matching_numbers == 5:\n",
    "        return \"3등\"\n",
    "    elif matching_numbers == 4:\n",
    "        return \"4등\"\n",
    "    elif matching_numbers == 3:\n",
    "        return \"5등\"\n",
    "    else:\n",
    "        return \"꽝\"\n",
    "\n",
    "# 메인 프로그램\n",
    "if __name__ == \"__main__\":\n",
    "    winning_numbers, bonus_number = get_lotto_numbers()\n",
    "    user_numbers = generate_random_numbers()\n",
    "    \n",
    "    print(f\"이번 주 당첨 번호: {winning_numbers}\")\n",
    "    print(f\"보너스 번호: {bonus_number}\")\n",
    "    print(f\"랜덤 생성 번호: {user_numbers}\")\n",
    "    \n",
    "    rank = check_rank(winning_numbers, bonus_number, user_numbers)\n",
    "    print(f\"당신의 등수는: {rank}\")\n"
   ]
  },
  {
   "cell_type": "code",
   "execution_count": null,
   "metadata": {},
   "outputs": [],
   "source": [
    "# API URL\n",
    "# 핵심은 결국 URL 로 요청. 어떤 URL은 HTML을, 어떤 URL은 데이터(JSON)만 응답으로 제공\n",
    "URL = 'https://www.dhlottery.co.kr/common.do?method=getLottoNumber&drwNo=1126'\n"
   ]
  }
 ],
 "metadata": {
  "kernelspec": {
   "display_name": "Python 3",
   "language": "python",
   "name": "python3"
  },
  "language_info": {
   "codemirror_mode": {
    "name": "ipython",
    "version": 3
   },
   "file_extension": ".py",
   "mimetype": "text/x-python",
   "name": "python",
   "nbconvert_exporter": "python",
   "pygments_lexer": "ipython3",
   "version": "3.12.4"
  }
 },
 "nbformat": 4,
 "nbformat_minor": 2
}
