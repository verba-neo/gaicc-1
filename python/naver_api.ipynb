{
 "cells": [
  {
   "cell_type": "markdown",
   "metadata": {},
   "source": [
    "`naver_api.ipynb`"
   ]
  },
  {
   "cell_type": "code",
   "execution_count": 6,
   "metadata": {},
   "outputs": [],
   "source": [
    "NAVER_CLIENT_ID = 'L2q5Wm4QyVn5FanCMBsi'\n",
    "NAVER_CLIENT_SECRET = 'CK4tH9_vew'"
   ]
  },
  {
   "cell_type": "code",
   "execution_count": 34,
   "metadata": {},
   "outputs": [],
   "source": [
    "import requests\n",
    "\n",
    "# URL 로 GET 요청 보내기\n",
    "# Header 옵션에 Naver API 키 같이 보내기\n",
    "# 쿼리스트링으로 내가 원하는 제품 같이 보내기\n",
    "URL = 'https://openapi.naver.com/v1/search/shop.json'\n",
    "h = {\n",
    "    'X-Naver-Client-Id': NAVER_CLIENT_ID,\n",
    "    'X-Naver-Client-Secret': NAVER_CLIENT_SECRET,\n",
    "}\n",
    "\n",
    "p = {\n",
    "    'query': 'playstation5',\n",
    "    'display': 1,\n",
    "}\n",
    "\n",
    "res = requests.get(URL, headers=h, params=p)\n",
    "data = res.json()"
   ]
  },
  {
   "cell_type": "code",
   "execution_count": 38,
   "metadata": {},
   "outputs": [
    {
     "name": "stderr",
     "output_type": "stream",
     "text": [
      "WNDPROC return value cannot be converted to LRESULT\n"
     ]
    },
    {
     "ename": "TypeError",
     "evalue": "WPARAM is simple, so must be an int object (got NoneType)",
     "output_type": "error",
     "traceback": [
      "\u001b[1;31m---------------------------------------------------------------------------\u001b[0m",
      "\u001b[1;31mTypeError\u001b[0m                                 Traceback (most recent call last)",
      "\u001b[1;31mTypeError\u001b[0m: WPARAM is simple, so must be an int object (got NoneType)"
     ]
    }
   ],
   "source": [
    "from win10toast import ToastNotifier\n",
    "\n",
    "lprice = int(data['items'][0]['lprice'])\n",
    "\n",
    "if lprice < 520000:\n",
    "    toaster = ToastNotifier()\n",
    "    toaster.show_toast('PS5', '520000보다 싸다!', duration=5)"
   ]
  },
  {
   "cell_type": "code",
   "execution_count": 30,
   "metadata": {},
   "outputs": [
    {
     "data": {
      "text/plain": [
       "20526.0"
      ]
     },
     "execution_count": 30,
     "metadata": {},
     "output_type": "execute_result"
    }
   ],
   "source": [
    "# 중첩된 데이터에서 원하는 값을 뽑아내자!\n",
    "total = 0\n",
    "for product in data['items']:\n",
    "    total += int(product['lprice'])\n",
    "\n",
    "total / 10"
   ]
  },
  {
   "cell_type": "code",
   "execution_count": null,
   "metadata": {},
   "outputs": [],
   "source": []
  }
 ],
 "metadata": {
  "kernelspec": {
   "display_name": "Python 3",
   "language": "python",
   "name": "python3"
  },
  "language_info": {
   "codemirror_mode": {
    "name": "ipython",
    "version": 3
   },
   "file_extension": ".py",
   "mimetype": "text/x-python",
   "name": "python",
   "nbconvert_exporter": "python",
   "pygments_lexer": "ipython3",
   "version": "3.12.4"
  }
 },
 "nbformat": 4,
 "nbformat_minor": 2
}
